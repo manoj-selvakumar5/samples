{
  "cells": [
    {
      "cell_type": "raw",
      "metadata": {
        "vscode": {
          "languageId": "raw"
        }
      },
      "source": [
        "# Building a Startup Advisor System: Step-by-Step Guide\n",
        "\n",
        "Welcome! In this notebook, we'll learn how to build a startup advisor system from scratch using Strands agents. Instead of jumping into the complete solution, we'll break down the problem and build it piece by piece.\n",
        "\n",
        "## 🎯 The Business Problem\n",
        "\n",
        "Imagine you're an entrepreneur with a new startup idea. You need:\n",
        "1. **Market research** - Who are your competitors? What's the market size?\n",
        "2. **Strategy development** - How should you position your product?\n",
        "3. **Marketing content** - What messaging will resonate with customers?\n",
        "4. **Documentation** - Professional reports to share with investors\n",
        "\n",
        "Traditionally, this would require hiring consultants or spending weeks researching. Let's build an AI system that can do this in minutes!\n",
        "\n",
        "## 🧩 Breaking Down the Problem\n",
        "\n",
        "Before we code anything, let's think about what we need:\n",
        "\n",
        "### Core Components:\n",
        "1. **Information Gathering** - Search the web for market data\n",
        "2. **Analysis** - Process information and extract insights  \n",
        "3. **Strategy** - Convert insights into actionable plans\n",
        "4. **Content Creation** - Generate marketing materials\n",
        "5. **Documentation** - Create professional reports\n",
        "\n",
        "### Technical Requirements:\n",
        "- AI agents that can search the web\n",
        "- Agents that can collaborate and share information\n",
        "- File generation capabilities\n",
        "- A structured workflow\n",
        "\n",
        "Let's build this step by step! 🚀\n"
      ]
    },
    {
      "cell_type": "raw",
      "metadata": {
        "vscode": {
          "languageId": "raw"
        }
      },
      "source": [
        "## Step 1: Environment Setup\n",
        "\n",
        "First, let's set up our development environment. We'll install the necessary packages and import the libraries we'll need.\n"
      ]
    },
    {
      "cell_type": "code",
      "execution_count": null,
      "metadata": {},
      "outputs": [],
      "source": [
        "# Install required packages\n",
        "%pip install strands-agents>=0.1.2 strands-agents-tools>=0.1.1 python-dotenv\n"
      ]
    },
    {
      "cell_type": "code",
      "execution_count": null,
      "metadata": {},
      "outputs": [],
      "source": [
        "# Import the libraries we'll use throughout this tutorial\n",
        "import os\n",
        "from dotenv import load_dotenv\n",
        "from strands import Agent\n",
        "\n",
        "# Load environment variables (for API keys)\n",
        "load_dotenv()\n",
        "\n",
        "print(\"✅ Basic setup complete! Let's start building our first agent.\")\n"
      ]
    },
    {
      "cell_type": "raw",
      "metadata": {
        "vscode": {
          "languageId": "raw"
        }
      },
      "source": [
        "## Step 2: Your First Agent - The Basic Advisor\n",
        "\n",
        "Let's start simple. We'll create our first agent that can give basic startup advice without any external tools.\n",
        "\n",
        "**Key Concept**: An agent is like hiring a consultant. You give them a personality and expertise through a \"system prompt\" (their job description).\n"
      ]
    },
    {
      "cell_type": "code",
      "execution_count": null,
      "metadata": {},
      "outputs": [],
      "source": [
        "# Create our first basic startup advisor\n",
        "basic_advisor = Agent(\n",
        "    system_prompt=\"\"\"You are a startup advisor with experience in market analysis and business strategy. \n",
        "    Help entrepreneurs think through their business ideas by asking good questions and providing practical advice.\n",
        "    Be encouraging but realistic.\"\"\"\n",
        ")\n",
        "\n",
        "# Test it with a simple query\n",
        "startup_idea = \"I want to start a food delivery app for healthy meals\"\n",
        "\n",
        "print(\"🤖 Basic Advisor says:\")\n",
        "response = basic_advisor(f\"Give me initial thoughts on this startup idea: {startup_idea}\")\n",
        "print(response)\n"
      ]
    },
    {
      "cell_type": "raw",
      "metadata": {
        "vscode": {
          "languageId": "raw"
        }
      },
      "source": [
        "### 🎯 What We Learned\n",
        "\n",
        "Great! We just created our first agent. Notice:\n",
        "- The agent can give advice based on its training\n",
        "- But it's limited to general knowledge\n",
        "- It can't search for current market data or competitors\n",
        "\n",
        "**Next Challenge**: How do we give our agent the ability to research current market information?\n"
      ]
    },
    {
      "cell_type": "raw",
      "metadata": {
        "vscode": {
          "languageId": "raw"
        }
      },
      "source": [
        "## Step 3: Adding Search Powers - The Research Agent\n",
        "\n",
        "Now we'll upgrade our agent with web search capabilities using Perplexity. This requires setting up an MCP (Model Context Protocol) connection.\n",
        "\n",
        "**Key Concept**: MCP is like giving your agent a \"phone\" to call external services. Perplexity is a search service that can find current information on the web.\n"
      ]
    },
    {
      "cell_type": "raw",
      "metadata": {
        "vscode": {
          "languageId": "raw"
        }
      },
      "source": [
        "### Prerequisites for Search\n",
        "\n",
        "First, you'll need:\n",
        "1. **Perplexity API Key**: Get one at https://docs.perplexity.ai/guides/getting-started\n",
        "2. **Docker**: Make sure Docker is running on your system\n",
        "\n",
        "Create a `.env` file with your API key:\n",
        "```\n",
        "PERPLEXITY_API_KEY=your_key_here\n",
        "```\n"
      ]
    },
    {
      "cell_type": "code",
      "execution_count": null,
      "metadata": {},
      "outputs": [],
      "source": [
        "# Import additional libraries for MCP connection\n",
        "from mcp import StdioServerParameters, stdio_client\n",
        "from strands.tools.mcp import MCPClient\n",
        "\n",
        "# Check if we have the API key\n",
        "PERPLEXITY_API_KEY = os.getenv(\"PERPLEXITY_API_KEY\")\n",
        "\n",
        "if PERPLEXITY_API_KEY:\n",
        "    print(\"✅ Perplexity API key found!\")\n",
        "else:\n",
        "    print(\"⚠️ Please set your PERPLEXITY_API_KEY in a .env file\")\n",
        "    print(\"You can still continue with the tutorial, but search features won't work\")\n"
      ]
    },
    {
      "cell_type": "code",
      "execution_count": null,
      "metadata": {},
      "outputs": [],
      "source": [
        "def create_perplexity_connection():\n",
        "    \"\"\"\n",
        "    Creates an agent with web search capabilities.\n",
        "    This is our first 'powered-up' agent!\n",
        "    \"\"\"\n",
        "    if not PERPLEXITY_API_KEY:\n",
        "        print(\"❌ Cannot create search agent without API key\")\n",
        "        return None\n",
        "    \n",
        "    # Set up the connection to Perplexity search service\n",
        "    perplexity_client = MCPClient(\n",
        "        lambda: stdio_client(\n",
        "            StdioServerParameters(\n",
        "                command=\"docker\",\n",
        "                args=[\n",
        "                    \"run\", \"-i\", \"--rm\", \n",
        "                    \"-e\", \"PERPLEXITY_API_KEY\",\n",
        "                    \"mcp/perplexity-ask\"\n",
        "                ],\n",
        "                env={\"PERPLEXITY_API_KEY\": PERPLEXITY_API_KEY},\n",
        "            )\n",
        "        )\n",
        "    )\n",
        "    \n",
        "    return perplexity_client\n",
        "\n",
        "# Test our connection\n",
        "search_client = create_perplexity_connection()\n",
        "if search_client:\n",
        "    print(\"✅ Search client created successfully!\")\n",
        "    print(\"🔍 Our agent can now search the web for real-time information!\")\n"
      ]
    },
    {
      "cell_type": "code",
      "execution_count": null,
      "metadata": {},
      "outputs": [],
      "source": [
        "# Now let's create a research agent that can search the web\n",
        "def test_search_agent():\n",
        "\n",
        "    with search_client:\n",
        "        # Get the search tools available\n",
        "        search_tools = search_client.list_tools_sync()\n",
        "        print(f\"🛠️ Available search tools: {[tool.name for tool in search_tools]}\")\n",
        "        \n",
        "        # Create a research agent with search capabilities\n",
        "        research_agent = Agent(\n",
        "            system_prompt=\"\"\"You are a market researcher. Use web search to find current information \n",
        "            about markets, competitors, and industry trends. Provide factual, up-to-date insights.\"\"\",\n",
        "            tools=search_tools\n",
        "        )\n",
        "        \n",
        "        # Test it!\n",
        "        query = \"Search for information about the food delivery market size and main competitors\"\n",
        "        print(f\"\\n🔍 Researching: {query}\")\n",
        "        \n",
        "        result = research_agent(query)\n",
        "        print(\"\\n📊 Research Results:\")\n",
        "        print(result)\n",
        "\n",
        "# Run the test\n",
        "test_search_agent()\n"
      ]
    },
    {
      "cell_type": "raw",
      "metadata": {
        "vscode": {
          "languageId": "raw"
        }
      },
      "source": [
        "### 🎯 What We Learned\n",
        "\n",
        "Amazing! Our agent can now:\n",
        "- Search the web for current information\n",
        "- Find real market data and competitors\n",
        "- Provide up-to-date insights\n",
        "\n",
        "**But there's still a limitation**: One agent is doing all the work. What if we could have multiple specialists working together?\n"
      ]
    },
    {
      "cell_type": "raw",
      "metadata": {
        "vscode": {
          "languageId": "raw"
        }
      },
      "source": [
        "## Step 4: Team Collaboration - The Swarm\n",
        "\n",
        "Now let's introduce the concept of multiple agents working together. We'll use the \"swarm\" tool to create a team of specialists.\n",
        "\n",
        "**Key Concept**: A swarm is like a team leader who can delegate tasks to team members. Instead of one person doing everything, you have specialists for different aspects of the research.\n"
      ]
    },
    {
      "cell_type": "code",
      "execution_count": null,
      "metadata": {},
      "outputs": [],
      "source": [
        "# Import the swarm tool\n",
        "from strands_tools import swarm\n",
        "\n",
        "def test_swarm_research():\n",
        "    \"\"\"\n",
        "    Test how multiple agents can work together on research\n",
        "    \"\"\"\n",
        "    if not search_client:\n",
        "        print(\"⚠️ Skipping swarm test - no search capabilities\")\n",
        "        return\n",
        "        \n",
        "    with search_client:\n",
        "        search_tools = search_client.list_tools_sync()\n",
        "        \n",
        "        # Create a lead researcher who can coordinate a team\n",
        "        lead_researcher = Agent(\n",
        "            system_prompt=\"\"\"You are a Lead Market Researcher who coordinates research teams.\n",
        "            Use the swarm tool to delegate different aspects of market research to specialist agents.\n",
        "            You can create multiple agents to research competitors, market size, trends, etc.\"\"\",\n",
        "            tools=search_tools + [swarm]  # Note: we're adding the swarm tool!\n",
        "        )\n",
        "        \n",
        "        # Give it a complex research task\n",
        "        research_task = \"\"\"\n",
        "        Research the food delivery market. I need:\n",
        "        1. Market size and growth trends\n",
        "        2. Main competitors and their strategies  \n",
        "        3. Customer behavior and preferences\n",
        "        \n",
        "        Use a swarm of 3 agents to divide this work efficiently.\n",
        "        \"\"\"\n",
        "        \n",
        "        print(\"🐝 Lead Researcher coordinating swarm...\")\n",
        "        print(f\"📋 Task: {research_task}\")\n",
        "        \n",
        "        result = lead_researcher(research_task)\n",
        "        print(\"\\n\" + \"=\"*60)\n",
        "        print(\"🔍 SWARM RESEARCH RESULTS\")\n",
        "        print(\"=\"*60)\n",
        "        print(result)\n",
        "\n",
        "# Test the swarm\n",
        "test_swarm_research()\n"
      ]
    },
    {
      "cell_type": "raw",
      "metadata": {
        "vscode": {
          "languageId": "raw"
        }
      },
      "source": [
        "### 🎯 What We Learned\n",
        "\n",
        "Incredible! Now we have:\n",
        "- **Team coordination**: One agent managing multiple specialists\n",
        "- **Parallel research**: Different agents working on different aspects\n",
        "- **Comprehensive coverage**: No single point of failure\n",
        "\n",
        "**Next Challenge**: How do we turn research into actionable business strategy?\n"
      ]
    },
    {
      "cell_type": "markdown",
      "metadata": {
        "vscode": {
          "languageId": "raw"
        }
      },
      "source": [
        "## Step 5: Specialized Roles - The Strategy Team\n",
        "\n",
        "Now we'll create specialized agents with different roles: a Market Analyst and a Strategic Advisor. Each will have a specific expertise and personality.\n",
        "\n",
        "**Key Concept**: Different agents can have different \"personalities\" and expertise areas, just like hiring specialists for different roles in your company.\n"
      ]
    },
    {
      "cell_type": "code",
      "execution_count": null,
      "metadata": {},
      "outputs": [],
      "source": [
        "def create_strategy_team():\n",
        "    \"\"\"\n",
        "    Create our specialized strategy team with different roles\n",
        "    \"\"\"\n",
        "    if not search_client:\n",
        "        print(\"⚠️ Cannot create strategy team without search capabilities\")\n",
        "        return None, None\n",
        "        \n",
        "    with search_client:\n",
        "        search_tools = search_client.list_tools_sync()\n",
        "        \n",
        "        # Market Analyst - focuses on data and research\n",
        "        market_analyst = Agent(\n",
        "            system_prompt=\"\"\"You are a Market Analyst at a top consulting firm. \n",
        "            Your expertise is in gathering and analyzing market data, competitor analysis, \n",
        "            and industry trends. You provide detailed, data-driven insights. Use web search \n",
        "            to find current market information and support your analysis with specific data points.\"\"\",\n",
        "            tools=search_tools + [swarm]\n",
        "        )\n",
        "        \n",
        "        # Strategic Advisor - focuses on actionable recommendations  \n",
        "        strategic_advisor = Agent(\n",
        "            system_prompt=\"\"\"You are a Strategic Business Advisor with 15 years of experience. \n",
        "            You take market research and translate it into clear, actionable business strategies. \n",
        "            You focus on practical recommendations for positioning, pricing, marketing, and growth. \n",
        "            You can also do additional research if needed.\"\"\",\n",
        "            tools=search_tools\n",
        "        )\n",
        "        \n",
        "        return market_analyst, strategic_advisor\n",
        "\n",
        "# Create our team\n",
        "analyst, strategist = create_strategy_team()\n",
        "\n",
        "if analyst and strategist:\n",
        "    print(\"✅ Strategy team assembled!\")\n",
        "    print(\"👥 Team members:\")\n",
        "    print(\"   🔍 Market Analyst - Data and research specialist\")\n",
        "    print(\"   💡 Strategic Advisor - Strategy and recommendations expert\")\n"
      ]
    },
    {
      "cell_type": "code",
      "execution_count": null,
      "metadata": {},
      "outputs": [],
      "source": [
        "# Test our specialized team workflow\n",
        "def test_strategy_workflow():\n",
        "    \"\"\"\n",
        "    Test how our specialized agents work together in sequence\n",
        "    \"\"\"\n",
        "    if not analyst or not strategist:\n",
        "        print(\"⚠️ Strategy team not available\")\n",
        "        return\n",
        "        \n",
        "    startup_idea = \"A subscription service for personalized meal kits using AI to recommend recipes based on dietary preferences, health goals, and local ingredient availability\"\n",
        "    \n",
        "    print(f\"🚀 Startup Idea: {startup_idea}\")\n",
        "    print(\"\\n\" + \"=\"*60)\n",
        "    print(\"STEP 1: Market Analysis\")\n",
        "    print(\"=\"*60)\n",
        "    \n",
        "    # Step 1: Market Analyst does research\n",
        "    analyst_task = f\"\"\"\n",
        "    Conduct comprehensive market research for this startup idea: {startup_idea}\n",
        "    \n",
        "    Research and analyze:\n",
        "    1. Market size and growth trends for meal kit services\n",
        "    2. Main competitors and their positioning\n",
        "    3. Customer segments and preferences\n",
        "    4. Technology trends in food personalization\n",
        "    \n",
        "    Use a swarm of agents to gather comprehensive data.\n",
        "    \"\"\"\n",
        "    \n",
        "    market_research = analyst(analyst_task)\n",
        "    print(\"🔍 Market Analysis Complete!\")\n",
        "    print(market_research[:500] + \"...\" if len(market_research) > 500 else market_research)\n",
        "    \n",
        "    print(\"\\n\" + \"=\"*60)\n",
        "    print(\"STEP 2: Strategy Development\") \n",
        "    print(\"=\"*60)\n",
        "    \n",
        "    # Step 2: Strategic Advisor creates strategy\n",
        "    strategy_task = f\"\"\"\n",
        "    Based on this market research, develop a comprehensive business strategy \n",
        "    for the startup idea: {startup_idea}\n",
        "    \n",
        "    Market Research Findings:\n",
        "    {market_research}\n",
        "    \n",
        "    Provide:\n",
        "    1. Positioning strategy\n",
        "    2. Target customer segments  \n",
        "    3. Competitive differentiation\n",
        "    4. Go-to-market recommendations\n",
        "    5. Key success metrics to track\n",
        "    \"\"\"\n",
        "    \n",
        "    business_strategy = strategist(strategy_task)\n",
        "    print(\"💡 Strategy Development Complete!\")\n",
        "    print(business_strategy)\n",
        "    \n",
        "    return market_research, business_strategy\n",
        "\n",
        "# Run the workflow\n",
        "if analyst and strategist:\n",
        "    research_results, strategy_results = test_strategy_workflow()\n"
      ]
    },
    {
      "cell_type": "raw",
      "metadata": {
        "vscode": {
          "languageId": "raw"
        }
      },
      "source": [
        "### 🎯 What We Learned\n",
        "\n",
        "Excellent! Now we have:\n",
        "- **Specialized roles**: Each agent has specific expertise\n",
        "- **Sequential workflow**: Research → Strategy \n",
        "- **Handoff between agents**: Output from one becomes input to the next\n",
        "\n",
        "**Next Challenge**: How do we create professional marketing materials and save them to files?\n"
      ]
    },
    {
      "cell_type": "raw",
      "metadata": {
        "vscode": {
          "languageId": "raw"
        }
      },
      "source": [
        "## Step 6: Content Creation and File Operations\n",
        "\n",
        "Now we'll add agents that can create marketing content and save professional reports to files.\n",
        "\n",
        "**Key Concept**: Some agents can have \"tools\" that let them interact with the file system, create documents, and perform actions beyond just text generation.\n"
      ]
    },
    {
      "cell_type": "code",
      "execution_count": null,
      "metadata": {},
      "outputs": [],
      "source": [
        "# Import file operation tools\n",
        "from strands_tools import file_write, editor\n",
        "\n",
        "# Create content creation team\n",
        "content_writer = Agent(\n",
        "    system_prompt=\"\"\"You are a Creative Marketing Writer with expertise in startup marketing.\n",
        "    You excel at creating compelling marketing copy, campaign ideas, and promotional content.\n",
        "    Transform business strategies into engaging narratives that resonate with target audiences.\n",
        "    Focus on benefits, emotional appeal, and clear calls to action.\"\"\"\n",
        ")\n",
        "\n",
        "report_writer = Agent(\n",
        "    system_prompt=\"\"\"You are a Professional Report Writer who creates executive-level documents.\n",
        "    Take research and strategy outputs and format them into clean, professional markdown reports.\n",
        "    Use proper structure, headings, bullet points, and formatting for easy reading.\n",
        "    Save all reports using the file_write tool.\"\"\",\n",
        "    tools=[file_write, editor]  # This agent can create and edit files!\n",
        ")\n",
        "\n",
        "print(\"✅ Content creation team ready!\")\n",
        "print(\"👥 New team members:\")\n",
        "print(\"   ✍️ Content Writer - Marketing copy and campaigns\")\n",
        "print(\"   📄 Report Writer - Professional documentation\")\n"
      ]
    },
    {
      "cell_type": "code",
      "execution_count": null,
      "metadata": {},
      "outputs": [],
      "source": [
        "# Test content creation and file operations\n",
        "def test_content_creation():\n",
        "    \"\"\"\n",
        "    Test how we can create marketing content and save reports\n",
        "    \"\"\"\n",
        "    # Use some sample strategy data (in real scenario, this comes from previous steps)\n",
        "    sample_strategy = \"\"\"\n",
        "    Business Strategy for AI-Powered Meal Kit Service:\n",
        "    \n",
        "    1. Target Market: Health-conscious millennials and Gen Z (ages 25-40)\n",
        "    2. Positioning: \"Personalized nutrition made simple with AI\"\n",
        "    3. Key Differentiators: AI recipe recommendations, local sourcing, dietary customization\n",
        "    4. Go-to-Market: Start with urban areas, partner with fitness apps and health influencers\n",
        "    5. Revenue Model: Subscription tiers from $15-50/week based on meal frequency\n",
        "    \"\"\"\n",
        "    \n",
        "    print(\"📝 Creating marketing content...\")\n",
        "    \n",
        "    # Step 1: Content Writer creates marketing materials\n",
        "    content_task = f\"\"\"\n",
        "    Based on this business strategy, create compelling marketing content:\n",
        "    {sample_strategy}\n",
        "    \n",
        "    Create:\n",
        "    1. A catchy tagline and value proposition\n",
        "    2. Key marketing messages for different channels\n",
        "    3. A draft for a social media campaign\n",
        "    4. An elevator pitch for investors\n",
        "    \"\"\"\n",
        "    \n",
        "    marketing_content = content_writer(content_task)\n",
        "    print(\"✍️ Marketing content created!\")\n",
        "    print(\"\\n📋 Marketing Materials:\")\n",
        "    print(\"-\" * 40)\n",
        "    print(marketing_content[:400] + \"...\" if len(marketing_content) > 400 else marketing_content)\n",
        "    \n",
        "    print(\"\\n📄 Creating professional report...\")\n",
        "    \n",
        "    # Step 2: Report Writer formats and saves everything\n",
        "    report_task = f\"\"\"\n",
        "    Create a comprehensive startup advisory report that includes:\n",
        "    \n",
        "    Strategy Summary:\n",
        "    {sample_strategy}\n",
        "    \n",
        "    Marketing Materials:\n",
        "    {marketing_content}\n",
        "    \n",
        "    Format this as a professional markdown report with proper headings and structure.\n",
        "    Save it as 'startup_advisory_report.md' in the current directory.\n",
        "    \"\"\"\n",
        "    \n",
        "    report_result = report_writer(report_task)\n",
        "    print(\"📊 Professional report generated and saved!\")\n",
        "    print(f\"💾 Report result: {report_result}\")\n",
        "    \n",
        "    return marketing_content\n",
        "\n",
        "# Test the content creation\n",
        "marketing_materials = test_content_creation()\n"
      ]
    },
    {
      "cell_type": "code",
      "execution_count": null,
      "metadata": {},
      "outputs": [],
      "source": [
        "# Check what files were created\n",
        "import glob\n",
        "import os\n",
        "\n",
        "print(\"📁 Checking for generated files...\")\n",
        "markdown_files = glob.glob(\"*.md\")\n",
        "\n",
        "for file in markdown_files:\n",
        "    if file != \"README.md\":  # Skip the existing README\n",
        "        print(f\"✅ Found: {file}\")\n",
        "        \n",
        "        # Show file preview\n",
        "        if os.path.exists(file):\n",
        "            try:\n",
        "                with open(file, 'r') as f:\n",
        "                    content = f.read()\n",
        "                    print(f\"\\n📄 Preview of {file}:\")\n",
        "                    print(\"-\" * 50)\n",
        "                    print(content[:300] + \"...\" if len(content) > 300 else content)\n",
        "                    print(\"-\" * 50)\n",
        "            except Exception as e:\n",
        "                print(f\"❌ Error reading {file}: {e}\")\n",
        "\n",
        "if not any(f != \"README.md\" for f in markdown_files):\n",
        "    print(\"ℹ️ No new files generated (this is normal if file operations aren't working)\")\n"
      ]
    },
    {
      "cell_type": "raw",
      "metadata": {
        "vscode": {
          "languageId": "raw"
        }
      },
      "source": [
        "## Step 7: Putting It All Together - The Complete System\n",
        "\n",
        "Now let's integrate everything into a complete startup advisory system that goes from idea to professional deliverables.\n"
      ]
    },
    {
      "cell_type": "code",
      "execution_count": null,
      "metadata": {},
      "outputs": [],
      "source": [
        "def complete_startup_advisory(startup_description):\n",
        "    \"\"\"\n",
        "    Complete end-to-end startup advisory workflow\n",
        "    \"\"\"\n",
        "    print(\"🚀 COMPLETE STARTUP ADVISORY SYSTEM\")\n",
        "    print(\"=\" * 60)\n",
        "    print(f\"📋 Startup Idea: {startup_description}\")\n",
        "    \n",
        "    if not search_client or not analyst or not strategist:\n",
        "        print(\"⚠️ Full system not available - missing search capabilities\")\n",
        "        return\n",
        "    \n",
        "    # PHASE 1: Market Research\n",
        "    print(\"\\n🔍 PHASE 1: Market Research\")\n",
        "    print(\"-\" * 40)\n",
        "    \n",
        "    research_task = f\"\"\"\n",
        "    Conduct comprehensive market research for: {startup_description}\n",
        "    \n",
        "    Use a swarm of agents to research:\n",
        "    1. Market size and growth potential\n",
        "    2. Competitive landscape and key players\n",
        "    3. Target customer segments and needs\n",
        "    4. Industry trends and opportunities\n",
        "    5. Potential challenges and barriers\n",
        "    \"\"\"\n",
        "    \n",
        "    market_research = analyst(research_task)\n",
        "    print(\"✅ Market research completed\")\n",
        "    \n",
        "    # PHASE 2: Strategy Development  \n",
        "    print(\"\\n💡 PHASE 2: Strategy Development\")\n",
        "    print(\"-\" * 40)\n",
        "    \n",
        "    strategy_task = f\"\"\"\n",
        "    Develop a comprehensive business strategy based on this research:\n",
        "    \n",
        "    Startup: {startup_description}\n",
        "    Research: {market_research}\n",
        "    \n",
        "    Provide detailed recommendations for:\n",
        "    1. Market positioning and value proposition\n",
        "    2. Target customer segments and personas\n",
        "    3. Competitive differentiation strategy\n",
        "    4. Go-to-market plan and channels\n",
        "    5. Revenue model and pricing strategy\n",
        "    6. Key milestones and success metrics\n",
        "    \"\"\"\n",
        "    \n",
        "    business_strategy = strategist(strategy_task)\n",
        "    print(\"✅ Business strategy developed\")\n",
        "    \n",
        "    # PHASE 3: Marketing Content\n",
        "    print(\"\\n✍️ PHASE 3: Marketing Content Creation\")\n",
        "    print(\"-\" * 40)\n",
        "    \n",
        "    content_task = f\"\"\"\n",
        "    Create compelling marketing materials for: {startup_description}\n",
        "    \n",
        "    Based on strategy: {business_strategy}\n",
        "    \n",
        "    Develop:\n",
        "    1. Brand positioning and tagline\n",
        "    2. Key value propositions for different audiences\n",
        "    3. Marketing messages for various channels\n",
        "    4. Social media campaign concepts\n",
        "    5. Investor pitch summary\n",
        "    6. Customer testimonial framework\n",
        "    \"\"\"\n",
        "    \n",
        "    marketing_content = content_writer(content_task)\n",
        "    print(\"✅ Marketing content created\")\n",
        "    \n",
        "    # PHASE 4: Professional Report\n",
        "    print(\"\\n📄 PHASE 4: Report Generation\")\n",
        "    print(\"-\" * 40)\n",
        "    \n",
        "    report_task = f\"\"\"\n",
        "    Create a comprehensive startup advisory report including all our work:\n",
        "    \n",
        "    Startup: {startup_description}\n",
        "    Market Research: {market_research}\n",
        "    Business Strategy: {business_strategy}\n",
        "    Marketing Content: {marketing_content}\n",
        "    \n",
        "    Format as a professional executive report with:\n",
        "    - Executive Summary\n",
        "    - Market Analysis\n",
        "    - Strategic Recommendations  \n",
        "    - Marketing Plan\n",
        "    - Implementation Roadmap\n",
        "    \n",
        "    Save as 'complete_startup_advisory_report.md'\n",
        "    \"\"\"\n",
        "    \n",
        "    final_report = report_writer(report_task)\n",
        "    print(\"✅ Professional report generated and saved\")\n",
        "    \n",
        "    print(\"\\n🎉 STARTUP ADVISORY COMPLETE!\")\n",
        "    print(\"📋 Deliverables generated:\")\n",
        "    print(\"   • Market research and analysis\")\n",
        "    print(\"   • Business strategy and recommendations\") \n",
        "    print(\"   • Marketing content and campaigns\")\n",
        "    print(\"   • Professional advisory report\")\n",
        "    \n",
        "    return {\n",
        "        'research': market_research,\n",
        "        'strategy': business_strategy, \n",
        "        'marketing': marketing_content,\n",
        "        'report': final_report\n",
        "    }\n",
        "\n",
        "# Test the complete system\n",
        "test_startup = \"A mobile app that uses AR to help people learn cooking by providing real-time visual guidance and ingredient recognition\"\n",
        "\n",
        "if search_client:\n",
        "    results = complete_startup_advisory(test_startup)\n",
        "else:\n",
        "    print(\"⚠️ Complete system demo requires Perplexity API key\")\n",
        "    print(\"🔧 Set your PERPLEXITY_API_KEY to see the full workflow in action!\")\n"
      ]
    },
    {
      "cell_type": "raw",
      "metadata": {
        "vscode": {
          "languageId": "raw"
        }
      },
      "source": [
        "## 🎮 Try It Yourself!\n",
        "\n",
        "Now you can test the system with your own startup idea. Just modify the description below and run the cell.\n"
      ]
    },
    {
      "cell_type": "code",
      "execution_count": null,
      "metadata": {},
      "outputs": [],
      "source": [
        "# 🎯 YOUR STARTUP IDEA HERE\n",
        "# Modify this with your own startup concept!\n",
        "\n",
        "your_startup_idea = \"\"\"\n",
        "A platform that connects remote workers with local co-working spaces \n",
        "and provides AI-powered matching based on work style, amenities needed, \n",
        "and social preferences.\n",
        "\"\"\"\n",
        "\n",
        "print(\"💡 Your Startup Idea:\")\n",
        "print(your_startup_idea)\n",
        "print(\"\\n🤔 Want to analyze this idea? Uncomment the line below:\")\n",
        "print(\"# your_results = complete_startup_advisory(your_startup_idea)\")\n",
        "\n",
        "# Uncomment this line to run analysis on your idea:\n",
        "# your_results = complete_startup_advisory(your_startup_idea)\n"
      ]
    },
    {
      "cell_type": "raw",
      "metadata": {
        "vscode": {
          "languageId": "raw"
        }
      },
      "source": [
        "## 🎓 What You've Learned: From Zero to Startup Advisor\n",
        "\n",
        "Congratulations! You've built a complete AI-powered startup advisory system from scratch. Let's review the journey:\n",
        "\n",
        "### 🏗️ **Step-by-Step Building Process**\n",
        "\n",
        "1. **Started Simple**: Basic agent with just text capabilities\n",
        "2. **Added Search**: Connected to external data sources (Perplexity)\n",
        "3. **Introduced Collaboration**: Multiple agents working together (swarm)\n",
        "4. **Created Specialization**: Different agents with specific roles\n",
        "5. **Added Actions**: Agents that can create files and documents\n",
        "6. **Integrated Everything**: Complete end-to-end workflow\n",
        "\n",
        "### 🧩 **Key Concepts You Mastered**\n",
        "\n",
        "**Agent Fundamentals:**\n",
        "- Agents are like hiring specialists with specific expertise\n",
        "- System prompts define their personality and capabilities\n",
        "- Tools give agents the ability to take actions\n",
        "\n",
        "**Multi-Agent Collaboration:**\n",
        "- Sequential workflows: Output from one agent → Input to next\n",
        "- Parallel processing: Multiple agents working simultaneously (swarm)\n",
        "- Specialization: Each agent focused on what they do best\n",
        "\n",
        "**External Integrations:**\n",
        "- MCP (Model Context Protocol): Connecting to external services\n",
        "- Real-time data: Agents can access current information\n",
        "- File operations: Agents can create and save documents\n",
        "\n",
        "### 🚀 **What You Built**\n",
        "\n",
        "A complete system that can:\n",
        "- ✅ Research any market in real-time\n",
        "- ✅ Analyze competitors and opportunities  \n",
        "- ✅ Develop business strategies\n",
        "- ✅ Create marketing materials\n",
        "- ✅ Generate professional reports\n",
        "- ✅ Save everything to files\n",
        "\n",
        "**From hours/days of manual work → Minutes of automated analysis!**\n"
      ]
    },
    {
      "cell_type": "raw",
      "metadata": {
        "vscode": {
          "languageId": "raw"
        }
      },
      "source": [
        "### 🔮 **Next Steps: How to Extend This System**\n",
        "\n",
        "Now that you understand the building blocks, here are ideas to make it even more powerful:\n",
        "\n",
        "**🔧 Additional Agents:**\n",
        "- **Financial Analyst**: Calculate funding needs, revenue projections\n",
        "- **Legal Advisor**: Research regulations, compliance requirements\n",
        "- **Technical Architect**: Assess technical feasibility and requirements\n",
        "- **Sales Strategist**: Develop sales processes and forecasts\n",
        "\n",
        "**🛠️ More Tools & Integrations:**\n",
        "- **Social Media APIs**: Automatically post marketing content\n",
        "- **Email Systems**: Send reports to investors or team members\n",
        "- **Database Tools**: Store and retrieve historical analysis\n",
        "- **Presentation Tools**: Create investor pitch decks\n",
        "\n",
        "**📊 Advanced Features:**\n",
        "- **Feedback Loops**: Agents that review and improve each other's work\n",
        "- **Priority Scoring**: Rank multiple startup ideas automatically\n",
        "- **Competitive Monitoring**: Ongoing tracking of competitor changes\n",
        "- **Performance Metrics**: Track how well predictions match reality\n",
        "\n",
        "### 💡 **The Bigger Picture**\n",
        "\n",
        "You've learned how to think about building AI systems:\n",
        "\n",
        "1. **Start with the problem**: What business value are you creating?\n",
        "2. **Break it down**: What are the individual components needed?\n",
        "3. **Build incrementally**: Start simple, add complexity gradually\n",
        "4. **Test each piece**: Make sure each component works before combining\n",
        "5. **Integrate thoughtfully**: Design how components work together\n",
        "6. **Scale systematically**: Add more agents and capabilities over time\n",
        "\n",
        "This approach works for any AI system - not just startup advisors!\n",
        "\n",
        "### 🎯 **Your AI Journey Continues**\n",
        "\n",
        "You now have the foundation to build sophisticated multi-agent systems. Whether it's for business analysis, content creation, research, or any other domain - you understand the core principles.\n",
        "\n",
        "**The future is collaborative AI, and you're now equipped to build it!** 🚀\n",
        "\n",
        "---\n",
        "\n",
        "*Ready to build your next AI system? Start by identifying a problem you want to solve, then think about what agents and tools you'd need. The building blocks are the same!*\n"
      ]
    }
  ],
  "metadata": {
    "language_info": {
      "name": "python"
    }
  },
  "nbformat": 4,
  "nbformat_minor": 2
}
