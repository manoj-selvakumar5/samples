{
  "cells": [
    {
      "cell_type": "raw",
      "metadata": {
        "vscode": {
          "languageId": "raw"
        }
      },
      "source": [
        "# Startup Advisor using Perplexity MCP Server\n",
        "\n",
        "This notebook demonstrates a multi-agent startup advisor system that conducts market research and creates marketing strategies using the Perplexity MCP (Model Context Protocol) server.\n",
        "\n",
        "## Overview\n",
        "\n",
        "The system consists of:\n",
        "- **Market Research Team**: Analyzes competitors and market conditions\n",
        "- **Writer Team**: Creates compelling marketing content and reports\n",
        "- **Perplexity Integration**: Provides real-time web search capabilities\n",
        "\n",
        "![Architecture](./architecture.png)\n",
        "\n",
        "## Prerequisites\n",
        "\n",
        "Before running this notebook, ensure you have:\n",
        "1. Perplexity API key (get one at https://docs.perplexity.ai/guides/getting-started)\n",
        "2. Docker installed for the MCP server\n",
        "3. Required dependencies installed\n",
        "\n",
        "Let's start by setting up our environment and dependencies.\n"
      ]
    },
    {
      "cell_type": "code",
      "execution_count": null,
      "metadata": {},
      "outputs": [],
      "source": [
        "# Install required dependencies\n",
        "%pip install strands-agents>=0.1.2 strands-agents-tools>=0.1.1 python-dotenv\n"
      ]
    },
    {
      "cell_type": "code",
      "execution_count": 1,
      "metadata": {},
      "outputs": [
        {
          "name": "stdout",
          "output_type": "stream",
          "text": [
            "✅ Libraries imported successfully!\n"
          ]
        }
      ],
      "source": [
        "# Import necessary libraries\n",
        "import os\n",
        "from dotenv import load_dotenv\n",
        "from mcp import StdioServerParameters, stdio_client\n",
        "from strands import Agent\n",
        "from strands.tools.mcp import MCPClient\n",
        "from strands_tools import swarm, editor, file_write\n",
        "\n",
        "# Load environment variables\n",
        "load_dotenv()\n",
        "\n",
        "print(\"✅ Libraries imported successfully!\")\n"
      ]
    },
    {
      "cell_type": "raw",
      "metadata": {
        "vscode": {
          "languageId": "raw"
        }
      },
      "source": [
        "## Configuration\n",
        "\n",
        "Set up your Perplexity API key. You can either:\n",
        "1. Create a `.env` file with `PERPLEXITY_API_KEY=your_key_here`\n",
        "2. Set it directly in the cell below (not recommended for production)\n"
      ]
    },
    {
      "cell_type": "code",
      "execution_count": 2,
      "metadata": {},
      "outputs": [
        {
          "name": "stdout",
          "output_type": "stream",
          "text": [
            "✅ Perplexity API key loaded successfully!\n"
          ]
        }
      ],
      "source": [
        "# Get Perplexity API key from environment\n",
        "PERPLEXITY_API_KEY = os.getenv(\"PERPLEXITY_API_KEY\")\n",
        "\n",
        "if not PERPLEXITY_API_KEY:\n",
        "    print(\"⚠️ PERPLEXITY_API_KEY not found in environment variables.\")\n",
        "    print(\"Please set it in a .env file or uncomment the line below:\")\n",
        "    # PERPLEXITY_API_KEY = \"your_api_key_here\"  # Uncomment and add your key\n",
        "else:\n",
        "    print(\"✅ Perplexity API key loaded successfully!\")\n"
      ]
    },
    {
      "cell_type": "raw",
      "metadata": {
        "vscode": {
          "languageId": "raw"
        }
      },
      "source": [
        "## Market Research Team\n",
        "\n",
        "The market research team consists of:\n",
        "1. **Lead Market Analyst** - Conducts thorough analysis using web search\n",
        "2. **Chief Strategist** - Synthesizes insights into marketing strategies\n",
        "\n",
        "The team uses the Perplexity MCP server for real-time web search capabilities.\n"
      ]
    },
    {
      "cell_type": "code",
      "execution_count": null,
      "metadata": {},
      "outputs": [],
      "source": [
        "def create_market_research_team():\n",
        "    \"\"\"\n",
        "    Creates and returns the market research team with Perplexity integration.\n",
        "    \"\"\"\n",
        "    # Set up Perplexity MCP server connection\n",
        "    perplexity_mcp_server = MCPClient(\n",
        "        lambda: stdio_client(\n",
        "            StdioServerParameters(\n",
        "                command=\"docker\",\n",
        "                args=[\n",
        "                    \"run\",\n",
        "                    \"-i\",\n",
        "                    \"--rm\",\n",
        "                    \"-e\",\n",
        "                    \"PERPLEXITY_API_KEY\",\n",
        "                    \"mcp/perplexity-ask\",\n",
        "                ],\n",
        "                env={\"PERPLEXITY_API_KEY\": PERPLEXITY_API_KEY},\n",
        "            )\n",
        "        )\n",
        "    )\n",
        "    \n",
        "    return perplexity_mcp_server\n",
        "\n",
        "def conduct_market_research(project_description: str):\n",
        "    \"\"\"\n",
        "    Conducts comprehensive market research for a given project.\n",
        "    \"\"\"\n",
        "    try:\n",
        "        perplexity_mcp_server = create_market_research_team()\n",
        "        \n",
        "        with perplexity_mcp_server:\n",
        "            # Get available tools from Perplexity MCP server\n",
        "            tools = perplexity_mcp_server.list_tools_sync()\n",
        "            \n",
        "            # Create Lead Market Analyst agent\n",
        "            lead_market_analyst = Agent(\n",
        "                system_prompt=\"\"\"Conduct thorough analysis of the products and competitors, providing detailed \n",
        "                insights to guide marketing strategies. As the Lead Market Analyst at a digital marketing firm, you specialize \n",
        "                in understanding markets for new products and services. You can do web search to gather more information.\n",
        "                \"\"\",\n",
        "                tools=tools + [swarm],\n",
        "            )\n",
        "\n",
        "            # Create Chief Strategist agent\n",
        "            chief_strategist = Agent(\n",
        "                system_prompt=\"\"\"Synthesize insights from market analysis to formulate marketing strategies. You are the Chief Strategist at a digital marketing agency,\n",
        "                known for crafting custom marketing strategies that drive success of new products and services. You can do web search to gather more information.\n",
        "                \"\"\",\n",
        "                tools=tools,\n",
        "            )\n",
        "\n",
        "            print(\"\\n🔍 Market Analyst is conducting research...\\n\")\n",
        "            \n",
        "            # Conduct market analysis using swarm of agents\n",
        "            market_analyst_response = str(\n",
        "                lead_market_analyst(\n",
        "                    f\"Use a swarm of 2 agents to conduct market analysis in competitive pattern. The project description is: \\n\\n{project_description}\"\n",
        "                )\n",
        "            )\n",
        "\n",
        "            print(\"\\n💡 Chief Strategist is formulating strategy...\\n\")\n",
        "            \n",
        "            # Synthesize strategy from market analysis\n",
        "            strategy_response = str(chief_strategist(market_analyst_response))\n",
        "\n",
        "            return strategy_response\n",
        "\n",
        "    except Exception as e:\n",
        "        return f\"❌ Error during market research: {str(e)}\"\n",
        "\n",
        "print(\"✅ Market research team functions defined!\")\n"
      ]
    },
    {
      "cell_type": "raw",
      "metadata": {
        "vscode": {
          "languageId": "raw"
        }
      },
      "source": [
        "## Writer Team\n",
        "\n",
        "The writer team transforms market research into compelling content:\n",
        "1. **Content Writer** - Creates engaging marketing narratives and campaigns\n",
        "2. **Report Writer** - Formats and saves comprehensive markdown reports\n"
      ]
    },
    {
      "cell_type": "code",
      "execution_count": null,
      "metadata": {},
      "outputs": [],
      "source": [
        "def create_content_and_report(market_research: str):\n",
        "    \"\"\"\n",
        "    Creates marketing content and formatted reports based on market research.\n",
        "    \"\"\"\n",
        "    try:\n",
        "        # Create Content Writer agent\n",
        "        content_writer = Agent(\n",
        "            system_prompt=\"\"\"Develop and revise compelling and innovative content, including campaign ideas,\n",
        "            campaign copy, and even detailed campaign reports. As a Content Writer at a digital marketing agency, you \n",
        "            excel in creating narratives that resonate with target audiences. \n",
        "            Your expertise is in turning marketing strategies into engaging stories and visual \n",
        "            content that captures attention and inspires action.\n",
        "            \"\"\",\n",
        "        )\n",
        "\n",
        "        # Create Report Writer agent with file tools\n",
        "        formatted_report_writer = Agent(\n",
        "            system_prompt=\"\"\"Produce and save a markdown-formatted report based on all of the outputs\n",
        "            of your team's work. As a Report Writer you are excellent at taking everyone else's great work and \n",
        "            producing a cleanly formatted and easily readable report, saved in Markdown format \n",
        "            using file_write and editor tool. Create the file in current directory.\n",
        "            \"\"\",\n",
        "            tools=[file_write, editor],\n",
        "        )\n",
        "\n",
        "        print(\"\\n✍️ Content Writer is creating marketing materials...\\n\")\n",
        "        \n",
        "        # Generate marketing content\n",
        "        content_writer_response = str(content_writer(market_research))\n",
        "\n",
        "        print(\"\\n📄 Report Writer is formatting the final report...\\n\")\n",
        "        \n",
        "        # Create formatted report\n",
        "        report_response = str(formatted_report_writer(content_writer_response))\n",
        "\n",
        "        return report_response\n",
        "\n",
        "    except Exception as e:\n",
        "        return f\"❌ Error during content creation: {str(e)}\"\n",
        "\n",
        "print(\"✅ Writer team functions defined!\")\n"
      ]
    },
    {
      "cell_type": "markdown",
      "metadata": {
        "vscode": {
          "languageId": "raw"
        }
      },
      "source": [
        "## Demo: Complete Startup Advisory Workflow\n",
        "\n",
        "Now let's demonstrate the complete workflow with a sample startup project. We'll use the example of \"FlyingCars\" - a company that wants to be the leading supplier of flying cars.\n",
        "\n",
        "### Step 1: Define the Project\n"
      ]
    },
    {
      "cell_type": "code",
      "execution_count": null,
      "metadata": {},
      "outputs": [],
      "source": [
        "# Define the startup project for analysis\n",
        "project_query = \"\"\"\n",
        "Create a marketing strategy for the following:\n",
        "\n",
        "Project Name: FlyingCars wants to be the leading supplier of flying cars. \n",
        "The project is to build an innovative marketing strategy to showcase FlyingCars' advanced \n",
        "offerings, emphasizing ease of use, cost effectiveness, productivity, and safety. \n",
        "Target high net worth individuals, highlighting success stories and transformative \n",
        "potential. Be sure to include a draft for a video ad.\n",
        "\"\"\"\n",
        "\n",
        "print(\"🚀 Project defined:\")\n",
        "print(project_query)\n"
      ]
    },
    {
      "cell_type": "markdown",
      "metadata": {
        "vscode": {
          "languageId": "raw"
        }
      },
      "source": [
        "### Step 2: Conduct Market Research\n",
        "\n",
        "The market research team will analyze the flying car market, competitors, and target audience.\n"
      ]
    },
    {
      "cell_type": "code",
      "execution_count": null,
      "metadata": {},
      "outputs": [],
      "source": [
        "# Run market research\n",
        "print(\"🔍 Starting comprehensive market research...\\n\")\n",
        "\n",
        "market_research_results = conduct_market_research(project_query)\n",
        "\n",
        "print(\"\\n\" + \"=\"*80)\n",
        "print(\"📊 MARKET RESEARCH COMPLETED\")\n",
        "print(\"=\"*80)\n",
        "print(market_research_results[:1000] + \"...\" if len(market_research_results) > 1000 else market_research_results)\n"
      ]
    },
    {
      "cell_type": "markdown",
      "metadata": {
        "vscode": {
          "languageId": "raw"
        }
      },
      "source": [
        "### Step 3: Create Marketing Content and Reports\n",
        "\n",
        "The writer team will transform the market research into compelling marketing materials and a comprehensive report.\n"
      ]
    },
    {
      "cell_type": "code",
      "execution_count": null,
      "metadata": {},
      "outputs": [],
      "source": [
        "# Create content and reports\n",
        "print(\"✍️ Creating marketing content and reports...\\n\")\n",
        "\n",
        "final_report = create_content_and_report(market_research_results)\n",
        "\n",
        "print(\"\\n\" + \"=\"*80)\n",
        "print(\"📋 FINAL REPORT COMPLETED\")\n",
        "print(\"=\"*80)\n",
        "print(final_report[:1000] + \"...\" if len(final_report) > 1000 else final_report)\n"
      ]
    },
    {
      "cell_type": "raw",
      "metadata": {
        "vscode": {
          "languageId": "raw"
        }
      },
      "source": [
        "### Step 4: View Generated Reports\n",
        "\n",
        "The system should have generated markdown reports in the current directory. Let's check what files were created.\n"
      ]
    },
    {
      "cell_type": "code",
      "execution_count": null,
      "metadata": {},
      "outputs": [],
      "source": [
        "# List generated files\n",
        "import glob\n",
        "\n",
        "markdown_files = glob.glob(\"*.md\")\n",
        "print(\"📁 Generated files:\")\n",
        "for file in markdown_files:\n",
        "    if file != \"README.md\":  # Exclude the existing README\n",
        "        print(f\"  - {file}\")\n",
        "        \n",
        "        # Show a preview of the file content\n",
        "        try:\n",
        "            with open(file, 'r') as f:\n",
        "                content = f.read()\n",
        "                print(f\"\\n📄 Preview of {file}:\")\n",
        "                print(\"-\" * 40)\n",
        "                print(content[:500] + \"...\" if len(content) > 500 else content)\n",
        "                print(\"-\" * 40)\n",
        "        except Exception as e:\n",
        "            print(f\"❌ Error reading {file}: {e}\")\n"
      ]
    },
    {
      "cell_type": "raw",
      "metadata": {
        "vscode": {
          "languageId": "raw"
        }
      },
      "source": [
        "## Interactive Demo: Try Your Own Startup Idea\n",
        "\n",
        "Now you can try the system with your own startup idea! Simply modify the project description below and run the cells.\n"
      ]
    },
    {
      "cell_type": "code",
      "execution_count": null,
      "metadata": {},
      "outputs": [],
      "source": [
        "# Customize this with your own startup idea\n",
        "custom_project = \"\"\"\n",
        "Create a marketing strategy for the following:\n",
        "\n",
        "Project Name: [Your Startup Name Here]\n",
        "Description: [Describe your startup, its unique value proposition, target market, \n",
        "and what kind of marketing strategy you need]\n",
        "\n",
        "Example:\n",
        "Project Name: EcoClean - AI-powered sustainable cleaning service\n",
        "Description: Build a marketing strategy for an AI-powered cleaning service that uses \n",
        "only eco-friendly products and optimizes routes for minimal environmental impact. \n",
        "Target environmentally conscious families and businesses. Emphasize sustainability, \n",
        "efficiency, and cost savings. Include social media campaign ideas.\n",
        "\"\"\"\n",
        "\n",
        "print(\"💡 Customize the project description above, then run the next cell!\")\n"
      ]
    },
    {
      "cell_type": "code",
      "execution_count": null,
      "metadata": {},
      "outputs": [],
      "source": [
        "# Run the complete workflow for your custom project\n",
        "if \"[Your Startup Name Here]\" not in custom_project:\n",
        "    print(\"🚀 Running analysis for your custom startup...\\n\")\n",
        "    \n",
        "    # Market research\n",
        "    custom_research = conduct_market_research(custom_project)\n",
        "    \n",
        "    # Content creation\n",
        "    custom_report = create_content_and_report(custom_research)\n",
        "    \n",
        "    print(\"\\n✅ Analysis complete! Check the generated files above.\")\n",
        "else:\n",
        "    print(\"⚠️ Please customize the project description in the previous cell first!\")\n"
      ]
    },
    {
      "cell_type": "raw",
      "metadata": {
        "vscode": {
          "languageId": "raw"
        }
      },
      "source": [
        "## System Architecture Overview\n",
        "\n",
        "This startup advisor system demonstrates several key concepts:\n",
        "\n",
        "### Multi-Agent Architecture\n",
        "- **Sequential Processing**: Market research → Content creation → Report generation\n",
        "- **Specialized Agents**: Each agent has a specific role and expertise\n",
        "- **Tool Integration**: Agents use different tools (MCP, swarm, file operations)\n",
        "\n",
        "### MCP Integration\n",
        "- **Real-time Data**: Perplexity MCP provides current market information\n",
        "- **Docker-based**: MCP server runs in isolated container\n",
        "- **API Integration**: Seamless connection to external services\n",
        "\n",
        "### Collaborative Intelligence\n",
        "- **Swarm Agents**: Multiple agents collaborate on market analysis\n",
        "- **Knowledge Transfer**: Output from one team feeds into the next\n",
        "- **Structured Workflow**: Clear progression from research to final deliverable\n",
        "\n",
        "## Key Features Demonstrated\n",
        "\n",
        "1. **Real-time Market Research**: Using Perplexity for current market data\n",
        "2. **Multi-agent Collaboration**: Agents working together with specialized roles\n",
        "3. **Document Generation**: Automatic creation of formatted reports\n",
        "4. **Tool Integration**: Combining multiple tools and services\n",
        "5. **Scalable Architecture**: Easy to extend with additional agents or tools\n",
        "\n",
        "## Next Steps\n",
        "\n",
        "To extend this system, consider:\n",
        "- Adding financial analysis agents\n",
        "- Integrating with social media APIs for campaign deployment\n",
        "- Including competitor pricing analysis\n",
        "- Adding visual content generation capabilities\n",
        "- Implementing feedback loops for strategy refinement\n",
        "\n",
        "---\n",
        "\n",
        "**Note**: Make sure you have Docker running and a valid Perplexity API key to use this system effectively.\n"
      ]
    }
  ],
  "metadata": {
    "kernelspec": {
      "display_name": "genai-on-aws",
      "language": "python",
      "name": "python3"
    },
    "language_info": {
      "codemirror_mode": {
        "name": "ipython",
        "version": 3
      },
      "file_extension": ".py",
      "mimetype": "text/x-python",
      "name": "python",
      "nbconvert_exporter": "python",
      "pygments_lexer": "ipython3",
      "version": "3.12.1"
    }
  },
  "nbformat": 4,
  "nbformat_minor": 2
}
