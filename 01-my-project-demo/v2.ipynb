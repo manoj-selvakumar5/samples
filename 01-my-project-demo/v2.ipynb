{
 "cells": [
  {
   "cell_type": "code",
   "execution_count": 1,
   "metadata": {},
   "outputs": [],
   "source": [
    "\n",
    "import boto3\n",
    "from strands import Agent\n",
    "from strands_tools import agent_graph\n",
    "import json"
   ]
  },
  {
   "cell_type": "code",
   "execution_count": 2,
   "metadata": {},
   "outputs": [
    {
     "data": {
      "text/html": [
       "<pre style=\"white-space:pre;overflow-x:auto;line-height:normal;font-family:Menlo,'DejaVu Sans Mono',consolas,'Courier New',monospace\"></pre>\n"
      ],
      "text/plain": []
     },
     "metadata": {},
     "output_type": "display_data"
    },
    {
     "name": "stdout",
     "output_type": "stream",
     "text": [
      "Research team created successfully!\n",
      "Result: {'toolUseId': 'tooluse_agent_graph_488531006', 'status': 'success', 'content': [{'text': 'Graph research_team created and started'}]}\n"
     ]
    },
    {
     "data": {
      "text/html": [
       "<pre style=\"white-space:pre;overflow-x:auto;line-height:normal;font-family:Menlo,'DejaVu Sans Mono',consolas,'Courier New',monospace\"></pre>\n"
      ],
      "text/plain": []
     },
     "metadata": {},
     "output_type": "display_data"
    },
    {
     "name": "stdout",
     "output_type": "stream",
     "text": [
      "Network Status:\n",
      "{'toolUseId': 'tooluse_agent_graph_745457034', 'status': 'success', 'content': [{'text': 'Graph research_team status retrieved.'}]}\n",
      "Sending task to the coordinator...\n"
     ]
    },
    {
     "data": {
      "text/html": [
       "<pre style=\"white-space:pre;overflow-x:auto;line-height:normal;font-family:Menlo,'DejaVu Sans Mono',consolas,'Courier New',monospace\"></pre>\n"
      ],
      "text/plain": []
     },
     "metadata": {},
     "output_type": "display_data"
    },
    {
     "name": "stdout",
     "output_type": "stream",
     "text": [
      "Task sent to coordinator!\n",
      "Response: {'toolUseId': 'tooluse_agent_graph_538550285', 'status': 'success', 'content': [{'text': 'Message sent to node coordinator'}]}\n",
      "============================================================\n",
      "============================================================\n",
      "Sending direct message to data analyst...\n"
     ]
    },
    {
     "data": {
      "text/html": [
       "<pre style=\"white-space:pre;overflow-x:auto;line-height:normal;font-family:Menlo,'DejaVu Sans Mono',consolas,'Courier New',monospace\"></pre>\n"
      ],
      "text/plain": []
     },
     "metadata": {},
     "output_type": "display_data"
    },
    {
     "name": "stdout",
     "output_type": "stream",
     "text": [
      "Data Analyst Response: {'toolUseId': 'tooluse_agent_graph_689306833', 'status': 'success', 'content': [{'text': 'Message sent to node data_analyst'}]}\n",
      "============================================================\n",
      "============================================================\n",
      "Checking all active agent networks...\n"
     ]
    },
    {
     "data": {
      "text/html": [
       "<pre style=\"white-space:pre;overflow-x:auto;line-height:normal;font-family:Menlo,'DejaVu Sans Mono',consolas,'Courier New',monospace\"></pre>\n"
      ],
      "text/plain": []
     },
     "metadata": {},
     "output_type": "display_data"
    },
    {
     "name": "stdout",
     "output_type": "stream",
     "text": [
      "Active Networks: {'toolUseId': 'tooluse_agent_graph_581841468', 'status': 'success', 'content': [{'text': 'Listed 1 active agent graphs.'}]}\n",
      "============================================================\n",
      "============================================================\n",
      "# Impact of Remote Work on Employee Productivity\n",
      "\n",
      "Remote work has mixed effects on productivity:\n",
      "\n",
      "**Positive Impacts:**\n",
      "- Elimination of commute time and related stress\n",
      "- Fewer office distractions and interruptions\n",
      "- Increased autonomy and schedule flexibility\n",
      "- Better work-life balance for many employees\n",
      "\n",
      "**Negative Impacts:**\n",
      "- Communication barriers and coordination challenges\n",
      "- Potential isolation and decreased team cohesion\n",
      "- Blurred boundaries between work and personal life\n",
      "- Technology and home environment limitations\n",
      "\n",
      "Research suggests productivity outcomes vary significantly based on job type, individual working styles, and organizational support systems. Companies experiencing the most success typically implement clear communication protocols, results-focused performance metrics, and appropriate technology infrastructure.I'll help you shut down the \"research_team\" graph. Let me do that for you:\n",
      "Tool #1: agent_graph\n",
      "## Analysis of Remote Work's Impact on Productivity\n",
      "\n",
      "This response effectively summarizes the dual nature of remote work's productivity effects. The balanced presentation of both positive and negative factors demonstrates a nuanced understanding of workplace dynamics.\n",
      "\n",
      "The content accurately identifies key productivity drivers (commute elimination, fewer interruptions) and obstacles (communication barriers, isolation). The acknowledgment that outcomes vary by job type, working style, and organizational support reflects current research consensus.\n",
      "\n",
      "The response appropriately avoids overgeneralizing - an important point since remote work effectiveness varies dramatically across industries and roles. The brief mention of successful implementation strategies (clear protocols, results-focused metrics) provides actionable context without overextending.\n",
      "\n",
      "The brevity and clear organization using bullet points makes this an accessible overview of a complex workplace transformation topic.# Key Productivity Metrics for Remote Work Analysis\n",
      "\n",
      "For remote work productivity analysis, focus on these essential metrics:\n",
      "\n",
      "1. **Output-based metrics**: Task completion rates, projects delivered on time, and quality scores\n",
      "2. **Time utilization**: Active work hours, focus time periods, and meeting-to-individual work ratio\n",
      "3. **System engagement**: System login patterns, application usage distribution, and digital tool adoption rates\n",
      "4. **Collaboration indicators**: Response times, cross-team communication frequency, and document collaboration metrics\n",
      "5. **Employee well-being**: Work hours distribution, break patterns, and self-reported satisfaction scores\n",
      "\n",
      "The most effective approach combines quantitative productivity data with qualitative feedback to create a balanced assessment that respects privacy while providing actionable insights on remote work effectiveness."
     ]
    },
    {
     "data": {
      "text/html": [
       "<pre style=\"white-space:pre;overflow-x:auto;line-height:normal;font-family:Menlo,'DejaVu Sans Mono',consolas,'Courier New',monospace\"></pre>\n"
      ],
      "text/plain": []
     },
     "metadata": {},
     "output_type": "display_data"
    },
    {
     "name": "stdout",
     "output_type": "stream",
     "text": [
      "The \"research_team\" agent graph has been successfully shut down and removed from the active graphs list."
     ]
    },
    {
     "data": {
      "text/plain": [
       "AgentResult(stop_reason='end_turn', message={'role': 'assistant', 'content': [{'text': 'The \"research_team\" agent graph has been successfully shut down and removed from the active graphs list.'}]}, metrics=EventLoopMetrics(cycle_count=2, tool_metrics={'agent_graph': ToolMetrics(tool={'toolUseId': 'tooluse_tCTtf2loToyotEm4m31dvw', 'name': 'agent_graph', 'input': {'action': 'stop', 'graph_id': 'research_team'}}, call_count=1, success_count=1, error_count=0, total_time=43.39433217048645)}, cycle_durations=[14.21147084236145], traces=[<strands.telemetry.metrics.Trace object at 0x1073c7410>, <strands.telemetry.metrics.Trace object at 0x103f53c50>], accumulated_usage={'inputTokens': 4694, 'outputTokens': 103, 'totalTokens': 4797}, accumulated_metrics={'latencyMs': 3599}), state={})"
      ]
     },
     "execution_count": 2,
     "metadata": {},
     "output_type": "execute_result"
    }
   ],
   "source": [
    "# Step 1: Initialize an agent with agent_graph capability\n",
    "coordinator_agent = Agent(tools=[agent_graph])\n",
    "\n",
    "# Step 2: Create a structured agent graph using the agent_graph tool\n",
    "result = coordinator_agent.tool.agent_graph(\n",
    "    action=\"create\",\n",
    "    graph_id=\"research_team\",\n",
    "    topology={\n",
    "        \"type\": \"star\",\n",
    "        \"nodes\": [\n",
    "            {\n",
    "                \"id\": \"coordinator\",\n",
    "                \"role\": \"team_lead\",\n",
    "                \"system_prompt\": \"\"\"You are a research team leader coordinating specialists.\n",
    "                provide a short analysis, no need for follow ups\"\"\"\n",
    "            },\n",
    "            {\n",
    "                \"id\": \"data_analyst\",\n",
    "                \"role\": \"analyst\",\n",
    "                \"system_prompt\": \"\"\"You are a data analyst specializing in statistical analysis.\n",
    "                provide a short analysis, no need for follow ups\"\"\"\n",
    "            },\n",
    "            {\n",
    "                \"id\": \"domain_expert\",\n",
    "                \"role\": \"expert\",\n",
    "                \"system_prompt\": \"\"\"You are a domain expert with deep subject knowledge.\n",
    "                provide a short analysis, no need for follow ups\"\"\"\n",
    "            }\n",
    "        ],\n",
    "        \"edges\": [\n",
    "            {\"from\": \"coordinator\", \"to\": \"data_analyst\"},\n",
    "            {\"from\": \"coordinator\", \"to\": \"domain_expert\"},\n",
    "            {\"from\": \"data_analyst\", \"to\": \"coordinator\"},\n",
    "            {\"from\": \"domain_expert\", \"to\": \"coordinator\"}\n",
    "        ]\n",
    "    }\n",
    ")\n",
    "\n",
    "print(\"Research team created successfully!\")\n",
    "print(f\"Result: {result}\")\n",
    "\n",
    "# Step 3: Check the status of our newly created network\n",
    "status_result = coordinator_agent.tool.agent_graph(\n",
    "    action=\"status\",\n",
    "    graph_id=\"research_team\"\n",
    ")\n",
    "\n",
    "print(\"Network Status:\")\n",
    "print(status_result)\n",
    "\n",
    "# Step 4: Send a task to the coordinator\n",
    "print(\"Sending task to the coordinator...\")\n",
    "\n",
    "message_result = coordinator_agent.tool.agent_graph(\n",
    "    action=\"message\",\n",
    "    graph_id=\"research_team\",\n",
    "    message={\n",
    "        \"target\": \"coordinator\",\n",
    "        \"content\": \"\"\"Analyze the impact of remote work on employee productivity.\n",
    "        provide a short analysis, no need for follow ups\"\"\"\n",
    "    }\n",
    ")\n",
    "\n",
    "print(\"Task sent to coordinator!\")\n",
    "print(f\"Response: {message_result}\")\n",
    "print(\"============================================================\")\n",
    "print(\"============================================================\")\n",
    "\n",
    "# Step 5: Direct communication with specialists\n",
    "print(\"Sending direct message to data analyst...\")\n",
    "\n",
    "analyst_result = coordinator_agent.tool.agent_graph(\n",
    "    action=\"message\",\n",
    "    graph_id=\"research_team\",\n",
    "    message={\n",
    "        \"target\": \"data_analyst\",\n",
    "        \"content\": \"\"\"What are the key productivity metrics we should \n",
    "        track for remote work analysis? provide a short analysis, no need for follow ups\"\"\"\n",
    "    }\n",
    ")\n",
    "\n",
    "print(f\"Data Analyst Response: {analyst_result}\")\n",
    "print(\"============================================================\")\n",
    "print(\"============================================================\")\n",
    "\n",
    "# Step 6: List all active networks\n",
    "print(\"Checking all active agent networks...\")\n",
    "\n",
    "list_result = coordinator_agent.tool.agent_graph(action=\"list\")\n",
    "print(f\"Active Networks: {list_result}\")\n",
    "print(\"============================================================\")\n",
    "print(\"============================================================\")\n",
    "# Manage the network\n",
    "coordinator_agent(\"Shut down the content research_team when they're done\")"
   ]
  },
  {
   "cell_type": "code",
   "execution_count": null,
   "metadata": {},
   "outputs": [],
   "source": []
  }
 ],
 "metadata": {
  "kernelspec": {
   "display_name": "genai-on-aws",
   "language": "python",
   "name": "python3"
  },
  "language_info": {
   "codemirror_mode": {
    "name": "ipython",
    "version": 3
   },
   "file_extension": ".py",
   "mimetype": "text/x-python",
   "name": "python",
   "nbconvert_exporter": "python",
   "pygments_lexer": "ipython3",
   "version": "3.12.1"
  }
 },
 "nbformat": 4,
 "nbformat_minor": 2
}
