{
 "cells": [
  {
   "cell_type": "markdown",
   "id": "5f68b737",
   "metadata": {},
   "source": [
    "# RAG with Structured and Unstructured Knowledge Bases using Strands Agents\n",
    "\n",
    "This notebook demonstrates how to build a RAG system that intelligently routes queries between structured and unstructured knowledge bases using Strands Agents with custom retrieve tools."
   ]
  },
  {
   "cell_type": "code",
   "execution_count": 1,
   "id": "1ce61780",
   "metadata": {},
   "outputs": [],
   "source": [
    "import os\n",
    "import boto3\n",
    "from strands import Agent, tool"
   ]
  },
  {
   "cell_type": "code",
   "execution_count": 2,
   "id": "e14a35ce",
   "metadata": {},
   "outputs": [],
   "source": [
    "UNSTRUCTURED_KB_ID = \"FJ6OIBKNMP\"  # Your document-based knowledge base\n",
    "STRUCTURED_KB_ID = \"G5F1E2PFCI\"   # Your SQL/structured data knowledge base"
   ]
  },
  {
   "cell_type": "code",
   "execution_count": 3,
   "id": "0a124047",
   "metadata": {},
   "outputs": [],
   "source": [
    "# Set up AWS region and client\n",
    "region = boto3.Session().region_name or \"us-west-2\"\n",
    "bedrock_agent_runtime = boto3.client('bedrock-agent-runtime', region_name=region)"
   ]
  },
  {
   "cell_type": "code",
   "execution_count": 4,
   "id": "ab213cb6",
   "metadata": {},
   "outputs": [],
   "source": [
    "@tool\n",
    "def unstructured_data_assistant(query: str) -> str:\n",
    "    \"\"\"\n",
    "    Handle document-based, narrative, and conceptual queries using the unstructured knowledge base.\n",
    "    \n",
    "    Args:\n",
    "        query: A question about business strategies, policies, company information, \n",
    "               or requiring document comprehension and qualitative analysis\n",
    "    \n",
    "    Returns:\n",
    "        Raw retrieve response from the unstructured knowledge base\n",
    "    \"\"\"\n",
    "    try:\n",
    "        retrieve_response = bedrock_agent_runtime.retrieve(\n",
    "            knowledgeBaseId=UNSTRUCTURED_KB_ID,\n",
    "            retrievalQuery={'text': query},\n",
    "            retrievalConfiguration={\n",
    "                'vectorSearchConfiguration': {\n",
    "                    'numberOfResults': 10,\n",
    "                }\n",
    "            }\n",
    "        )\n",
    "        \n",
    "        return retrieve_response\n",
    "        \n",
    "    except Exception as e:\n",
    "        return f\"Error in unstructured data assistant: {str(e)}\"\n"
   ]
  },
  {
   "cell_type": "code",
   "execution_count": 5,
   "id": "05754788",
   "metadata": {},
   "outputs": [],
   "source": [
    "@tool\n",
    "def structured_data_assistant(query: str) -> str:\n",
    "    \"\"\"\n",
    "    Handle data analysis, metrics, and quantitative queries using the structured knowledge base.\n",
    "    \n",
    "    Args:\n",
    "        query: A question requiring calculations, aggregations, statistical analysis,\n",
    "               or database operations on structured data\n",
    "    \n",
    "    Returns:\n",
    "        Raw retrieve response from the structured knowledge base\n",
    "    \"\"\"\n",
    "    try:\n",
    "        retrieve_response = bedrock_agent_runtime.retrieve(\n",
    "            knowledgeBaseId=STRUCTURED_KB_ID,\n",
    "            retrievalQuery={'text': query},\n",
    "            retrievalConfiguration={\n",
    "                'vectorSearchConfiguration': {\n",
    "                    'numberOfResults': 10,\n",
    "                }\n",
    "            }\n",
    "        )\n",
    "        \n",
    "        return retrieve_response\n",
    "        \n",
    "    except Exception as e:\n",
    "        return f\"Error in structured data assistant: {str(e)}\"\n"
   ]
  },
  {
   "cell_type": "markdown",
   "id": "aa987414",
   "metadata": {},
   "source": [
    "As an intelligent assistant, your role is to route queries to one of two specialized knowledge bases. The unstructured data assistant handles questions about business strategies, policies, company information, culture, and qualitative topics, while the structured data assistant manages questions requiring calculations, metrics, financial data, and quantitative analysis. When you receive a query, you'll direct it to the appropriate tool - sending document, policy, and strategy questions to the unstructured assistant, and data, financial, and calculation questions to the structured assistant. Once these tools provide their raw data, you'll analyze it and present the information in a clear, helpful format for the user.\n",
    "\n"
   ]
  },
  {
   "cell_type": "code",
   "execution_count": null,
   "id": "28210932",
   "metadata": {},
   "outputs": [],
   "source": [
    "# Create the orchestrator agent with both tools\n",
    "orchestrator = Agent(\n",
    "    system_prompt=\"\"\"You are an intelligent assistant that routes queries to the appropriate knowledge base. Choose the appropriate tool based on the query type. \n",
    "    The tools return raw data that you should analyze and present in a clear, helpful format.\"\"\",\n",
    "    tools=[\n",
    "        unstructured_data_assistant,\n",
    "        structured_data_assistant\n",
    "    ]\n",
    ")"
   ]
  },
  {
   "cell_type": "code",
   "execution_count": null,
   "id": "e3f98e97",
   "metadata": {},
   "outputs": [
    {
     "name": "stdout",
     "output_type": "stream",
     "text": [
      "=== TEST 1: BUSINESS STRATEGY QUERY ===\n",
      "Query: What is Octank Financial's business strategy?\n",
      "\n",
      "I'll help you find information about Octank Financial's business strategy. This is a question about company information that would be best answered using the unstructured knowledge base.\n",
      "Tool #1: unstructured_data_assistant\n",
      "# Octank Financial's Business Strategy\n",
      "\n",
      "Based on the information retrieved, here's an overview of Octank Financial's business strategy:\n",
      "\n",
      "## Core Business Focus\n",
      "Octank Financial is a leading financial services company founded in 2010 that provides a comprehensive range of financial services including:\n",
      "- Investment banking (mergers & acquisitions, capital markets, financial advisory)\n",
      "- Wealth management for high-net-worth individuals and families\n",
      "- Asset management for institutional clients (pension funds, endowments, foundations)\n",
      "- Corporate finance for middle-market companies\n",
      "- Private equity investments in growth-oriented companies\n",
      "\n",
      "## Strategic Pillars\n",
      "\n",
      "### 1. Client-Centric Approach\n",
      "- Building long-term relationships with clients based on trust, transparency, and mutual respect\n",
      "- Developing customized investment strategies tailored to clients' unique needs and goals\n",
      "- Following a \"digital-first\" approach to make financial services accessible to a wider audience\n",
      "\n",
      "### 2. Innovation and Excellence\n",
      "- Commitment to staying at the forefront of financial innovation\n",
      "- Using technology and creativity to deliver optimal solutions to clients\n",
      "- Providing comprehensive training to employees to stay updated on industry trends\n",
      "\n",
      "### 3. Financial Strength\n",
      "- Strong financial position with robust revenue growth ($2.5 billion in 2021, a 15% increase)\n",
      "- Solid balance sheet with $1 billion in cash and cash equivalents\n",
      "- Disciplined investment approach focused on generating long-term risk-adjusted returns\n",
      "\n",
      "### 4. Talent Development\n",
      "- Team of over 1,000 diverse and talented professionals with extensive experience\n",
      "- Focus on creating a positive and inclusive workplace culture\n",
      "- Commitment to diversity, equity, and inclusion\n",
      "\n",
      "### 5. Corporate Social Responsibility\n",
      "- Dedicated program supporting education, healthcare, and environmental sustainability\n",
      "- Partnerships with local charities and non-profit organizations\n",
      "- Sustainability committee responsible for reducing environmental impact\n",
      "\n",
      "## Core Values\n",
      "1. Integrity - Upholding the highest ethical standards\n",
      "2. Innovation - Embracing new technologies and creative solutions\n",
      "3. Collaboration - Working closely with clients and colleagues\n",
      "4. Excellence - Striving for the best possible service\n",
      "5. Social Responsibility - Making a positive impact on society\n",
      "\n",
      "Octank Financial's business strategy is built around delivering exceptional financial services while maintaining strong client relationships, fostering innovation, and contributing positively to communities.# Octank Financial's Business Strategy\n",
      "\n",
      "Based on the information retrieved, here's an overview of Octank Financial's business strategy:\n",
      "\n",
      "## Core Business Focus\n",
      "Octank Financial is a leading financial services company founded in 2010 that provides a comprehensive range of financial services including:\n",
      "- Investment banking (mergers & acquisitions, capital markets, financial advisory)\n",
      "- Wealth management for high-net-worth individuals and families\n",
      "- Asset management for institutional clients (pension funds, endowments, foundations)\n",
      "- Corporate finance for middle-market companies\n",
      "- Private equity investments in growth-oriented companies\n",
      "\n",
      "## Strategic Pillars\n",
      "\n",
      "### 1. Client-Centric Approach\n",
      "- Building long-term relationships with clients based on trust, transparency, and mutual respect\n",
      "- Developing customized investment strategies tailored to clients' unique needs and goals\n",
      "- Following a \"digital-first\" approach to make financial services accessible to a wider audience\n",
      "\n",
      "### 2. Innovation and Excellence\n",
      "- Commitment to staying at the forefront of financial innovation\n",
      "- Using technology and creativity to deliver optimal solutions to clients\n",
      "- Providing comprehensive training to employees to stay updated on industry trends\n",
      "\n",
      "### 3. Financial Strength\n",
      "- Strong financial position with robust revenue growth ($2.5 billion in 2021, a 15% increase)\n",
      "- Solid balance sheet with $1 billion in cash and cash equivalents\n",
      "- Disciplined investment approach focused on generating long-term risk-adjusted returns\n",
      "\n",
      "### 4. Talent Development\n",
      "- Team of over 1,000 diverse and talented professionals with extensive experience\n",
      "- Focus on creating a positive and inclusive workplace culture\n",
      "- Commitment to diversity, equity, and inclusion\n",
      "\n",
      "### 5. Corporate Social Responsibility\n",
      "- Dedicated program supporting education, healthcare, and environmental sustainability\n",
      "- Partnerships with local charities and non-profit organizations\n",
      "- Sustainability committee responsible for reducing environmental impact\n",
      "\n",
      "## Core Values\n",
      "1. Integrity - Upholding the highest ethical standards\n",
      "2. Innovation - Embracing new technologies and creative solutions\n",
      "3. Collaboration - Working closely with clients and colleagues\n",
      "4. Excellence - Striving for the best possible service\n",
      "5. Social Responsibility - Making a positive impact on society\n",
      "\n",
      "Octank Financial's business strategy is built around delivering exceptional financial services while maintaining strong client relationships, fostering innovation, and contributing positively to communities.\n",
      "\n",
      "\n",
      "======================================================================\n",
      "\n"
     ]
    }
   ],
   "source": [
    "# EXAMPLE 1: Business Strategy Query (should use unstructured_data_assistant)\n",
    "print(\"=== EXAMPLE 1: BUSINESS STRATEGY QUERY ===\")\n",
    "print(\"Query: What is Octank Financial's business strategy?\")\n",
    "print()\n",
    "\n",
    "response = orchestrator(\"What is Octank Financial's business strategy?\")\n",
    "print(response)"
   ]
  },
  {
   "cell_type": "code",
   "execution_count": null,
   "id": "174d11ac",
   "metadata": {},
   "outputs": [
    {
     "name": "stdout",
     "output_type": "stream",
     "text": [
      "=== TEST 2: FINANCIAL DATA QUERY ===\n",
      "Query: What is the total spending by all customers?\n",
      "\n",
      "I'll help you find information about the total spending by all customers. This question requires calculating or retrieving specific financial data, so I'll use the structured data assistant.\n",
      "Tool #2: structured_data_assistant\n",
      "# Total Customer Spending\n",
      "\n",
      "Based on the data retrieved from the structured database, the total spending by all customers at Octank Financial is:\n",
      "\n",
      "**$5,078,473.69**\n",
      "\n",
      "This figure represents the sum of all order totals in the company's order database.# Total Customer Spending\n",
      "\n",
      "Based on the data retrieved from the structured database, the total spending by all customers at Octank Financial is:\n",
      "\n",
      "**$5,078,473.69**\n",
      "\n",
      "This figure represents the sum of all order totals in the company's order database.\n",
      "\n"
     ]
    }
   ],
   "source": [
    "# EXAMPLE 2: Financial Data Query (should use structured_data_assistant)\n",
    "print(\"=== EXAMPLE 2: FINANCIAL DATA QUERY ===\")\n",
    "print(\"Query: What is the total spending by all customers?\")\n",
    "print()\n",
    "\n",
    "response = orchestrator(\"What is the total spending by all customers?\")\n",
    "print(response)\n"
   ]
  },
  {
   "cell_type": "code",
   "execution_count": 10,
   "id": "fe720bcd",
   "metadata": {},
   "outputs": [
    {
     "data": {
      "text/plain": [
       "[{'role': 'user',\n",
       "  'content': [{'text': \"What is Octank Financial's business strategy?\"}]},\n",
       " {'role': 'assistant',\n",
       "  'content': [{'text': \"I'll help you find information about Octank Financial's business strategy. This is a question about company information that would be best answered using the unstructured knowledge base.\"},\n",
       "   {'toolUse': {'toolUseId': 'tooluse_23AN_a_lRcy6XpsA02zX1A',\n",
       "     'name': 'unstructured_data_assistant',\n",
       "     'input': {'query': \"What is Octank Financial's business strategy?\"}}}]},\n",
       " {'role': 'user',\n",
       "  'content': [{'toolResult': {'toolUseId': 'tooluse_23AN_a_lRcy6XpsA02zX1A',\n",
       "     'status': 'success',\n",
       "     'content': [{'text': '{\\'ResponseMetadata\\': {\\'RequestId\\': \\'f3ca7308-b0d7-4eb8-90e1-90643beaed4c\\', \\'HTTPStatusCode\\': 200, \\'HTTPHeaders\\': {\\'date\\': \\'Fri, 20 Jun 2025 20:22:05 GMT\\', \\'content-type\\': \\'application/json\\', \\'content-length\\': \\'19781\\', \\'connection\\': \\'keep-alive\\', \\'x-amzn-requestid\\': \\'f3ca7308-b0d7-4eb8-90e1-90643beaed4c\\'}, \\'RetryAttempts\\': 0}, \\'retrievalResults\\': [{\\'content\\': {\\'text\\': \\'At Octank Financial, we are committed to delivering exceptional service to our clients. We believe that our success is built on the success of our clients, and we are dedicated to helping them achieve their financial goals. We have a client-centric culture that is focused on building long-term relationships with our clients based on trust, transparency, and mutual respect.     Our company has a strong financial position, with robust revenue growth and a solid balance sheet. In 2021, we reported revenues of $2.5 billion, representing a 15% increase over the previous year. Our net income for the year was $500 million, up from $400 million in 2020. We have a strong cash position, with $1 billion in cash and cash equivalents on our balance sheet.     We are proud of our diverse and talented team of professionals, who come from a range of backgrounds and bring a wealth of experience and expertise to our company. Our team includes over 1,000 professionals, including investment bankers, wealth managers, asset managers, corporate financiers, and private equity investors. We are committed to creating a positive and inclusive workplace culture that values diversity, equity, and inclusion.     At Octank Financial, we are committed to giving back to our communities and making a positive impact on society. We have a corporate social responsibility program that is focused on supporting education, healthcare, and environmental sustainability.\\', \\'type\\': \\'TEXT\\'}, \\'location\\': {\\'s3Location\\': {\\'uri\\': \\'s3://synthetic-data-kb-5220459-533267284022/octank_financial_10K.pdf\\'}, \\'type\\': \\'S3\\'}, \\'metadata\\': {\\'x-amz-bedrock-kb-source-uri\\': \\'s3://synthetic-data-kb-5220459-533267284022/octank_financial_10K.pdf\\', \\'x-amz-bedrock-kb-document-page-number\\': 86.0, \\'x-amz-bedrock-kb-chunk-id\\': \\'1%3A0%3Ad0EAC5cBzSQmKS27GvVA\\', \\'x-amz-bedrock-kb-data-source-id\\': \\'VWPQ7C5G7Y\\'}, \\'score\\': 0.7203866}, {\\'content\\': {\\'text\\': \\'We have a client-centric culture that is focused on building long-term relationships with our clients based on trust, transparency, and mutual respect.     Our company has a strong financial position, with robust revenue growth and a solid balance sheet. In 2021, we reported revenues of $2.5 billion, representing a 15% increase over the previous year. Our net income for the year was $500 million, up from $400 million in 2020. We have a strong cash position, with $1 billion in cash and cash equivalents on our balance sheet.     We are proud of our diverse and talented team of professionals, who come from a range of backgrounds and bring a wealth of experience and expertise to our company. Our team includes over 1,000 professionals, including investment bankers, wealth managers, asset managers, corporate financiers, and private equity investors. We are committed to creating a positive and inclusive workplace culture that values diversity, equity, and inclusion.     At Octank Financial, we are committed to giving back to our communities and making a positive impact on society. We have a corporate social responsibility program that is focused on supporting education, healthcare, and environmental sustainability. We believe that by investing in ourcommunities, we can help create a better future for everyone.     In conclusion, Octank Financial is a leading financial services company that is dedicated to providing innovative and comprehensive financial solutions to our clients.\\', \\'type\\': \\'TEXT\\'}, \\'location\\': {\\'s3Location\\': {\\'uri\\': \\'s3://synthetic-data-kb-5220459-533267284022/octank_financial_10K.pdf\\'}, \\'type\\': \\'S3\\'}, \\'metadata\\': {\\'x-amz-bedrock-kb-source-uri\\': \\'s3://synthetic-data-kb-5220459-533267284022/octank_financial_10K.pdf\\', \\'x-amz-bedrock-kb-document-page-number\\': 34.0, \\'x-amz-bedrock-kb-chunk-id\\': \\'1%3A0%3AOlcAC5cBwjhvgSIIDiHI\\', \\'x-amz-bedrock-kb-data-source-id\\': \\'VWPQ7C5G7Y\\'}, \\'score\\': 0.71746707}, {\\'content\\': {\\'text\\': \"We believe that by investing in ourcommunities, we can help create a better future for everyone.     In conclusion, Octank Financial is a leading financial services company that is dedicated to providing innovative and comprehensive financial solutions to our clients. We have a strong financial position, a talented and diverse team of professionals, and a commitment to delivering exceptional service to our clients. We are proud of our track record of success and are excited about the opportunities that lie ahead.Values of Octank financial     At Octank Financial, our values are the bedrock upon which we build our relationships with clients, employees, and the communities we serve. We believe that a strong commitment to our values is essential for long-term success and growth. Here are the core values that define who we are and what we stand for:     1. **Integrity**: At Octank Financial, we hold ourselves to the highest ethical standards. We believe in doing the right thing, even when no one is watching. Our commitment to integrity is reflected in everything we do, from our interactions with clients to our financial reporting. We believe that transparency and honesty are essential for building trust, and we strive to earn our clients\\' trust every day.     2. **Innovation**: We are committed to staying at the forefront of financial innovation. We believe that technology and creativity are essential for delivering the best possible solutions to our clients. Our team of experts is always looking for new ways to solve problems and create value.\", \\'type\\': \\'TEXT\\'}, \\'location\\': {\\'s3Location\\': {\\'uri\\': \\'s3://synthetic-data-kb-5220459-533267284022/octank_financial_10K.pdf\\'}, \\'type\\': \\'S3\\'}, \\'metadata\\': {\\'x-amz-bedrock-kb-source-uri\\': \\'s3://synthetic-data-kb-5220459-533267284022/octank_financial_10K.pdf\\', \\'x-amz-bedrock-kb-document-page-number\\': 34.0, \\'x-amz-bedrock-kb-chunk-id\\': \\'1%3A0%3AO1cAC5cBwjhvgSIIDiHI\\', \\'x-amz-bedrock-kb-data-source-id\\': \\'VWPQ7C5G7Y\\'}, \\'score\\': 0.71672344}, {\\'content\\': {\\'text\\': \\'At Octank Financial, we are committed to giving back to our communities and making a positive impact on society. We have a corporate social responsibility program that is focused on supporting education, healthcare, and environmental sustainability. We believe that by investing in ourcommunities, we can help create a better future for everyone.     In conclusion, Octank Financial is a leading financial services company that is dedicated to providing innovative and comprehensive financial solutions to our clients. We have a strong financial position, a talented and diverse team of professionals, and a commitment to delivering exceptional service to our clients. We are proud of our track record of success and are excited about the opportunities that lie ahead.Risk Factors about Octank financial     Risk Factors ------------     Investing in Octank Financial involves various risks, including those outlined below. An investment in Octank Financial should be considered only by persons who can afford the loss of their entire investment.     ### Market Risk     Octank Financial is exposed to market risk due to the volatility of the financial markets. Factors such as changes in interest rates, inflation, economic downturns, political instability, and natural disasters can negatively impact the performance of our investments and, consequently, our financial results.\\', \\'type\\': \\'TEXT\\'}, \\'location\\': {\\'s3Location\\': {\\'uri\\': \\'s3://synthetic-data-kb-5220459-533267284022/octank_financial_10K.pdf\\'}, \\'type\\': \\'S3\\'}, \\'metadata\\': {\\'x-amz-bedrock-kb-source-uri\\': \\'s3://synthetic-data-kb-5220459-533267284022/octank_financial_10K.pdf\\', \\'x-amz-bedrock-kb-document-page-number\\': 86.0, \\'x-amz-bedrock-kb-chunk-id\\': \\'1%3A0%3AeEEAC5cBzSQmKS27GvVA\\', \\'x-amz-bedrock-kb-data-source-id\\': \\'VWPQ7C5G7Y\\'}, \\'score\\': 0.697276}, {\\'content\\': {\\'text\\': \\'At Octank Financial, we specialize in providing a wide range of financial services to individuals, businesses, and institutions. Our services include investment banking, wealth management, asset management, corporate finance, and private equity. We have a team of highly skilled and experienced financial professionals who are dedicated to helping our clients achieve their financial goals.     Our investment banking division provides a full range of services to our clients, including mergers and acquisitions, capital markets, and financial advisory services. We have a proven track record of success in helping our clients navigate complex financial transactions and achieve their strategic objectives. Our wealth management division provides comprehensive wealth management services to high net worth individuals and families. We work closely with our clients to develop customized investment strategies that are tailored to their unique needs and goals.     Our asset management division manages assets for a diverse range of clients, including pension funds, endowments, foundations, and sovereign wealth funds. We have a disciplined investment approach that is focused on generating long-term risk-adjusted returns for our clients. Our corporate finance division provides financial advisory services to middle-market companies. We help our clients raise capital, evaluate strategic alternatives, and execute mergers and acquisitions. Our private equity division invests in growth-oriented companies across a range of industries.     At Octank Financial, we are committed to delivering exceptional service to our clients. We believe that our success is built on the success of our clients, and we are dedicated to helping them achieve their financial goals.\\', \\'type\\': \\'TEXT\\'}, \\'location\\': {\\'s3Location\\': {\\'uri\\': \\'s3://synthetic-data-kb-5220459-533267284022/octank_financial_10K.pdf\\'}, \\'type\\': \\'S3\\'}, \\'metadata\\': {\\'x-amz-bedrock-kb-source-uri\\': \\'s3://synthetic-data-kb-5220459-533267284022/octank_financial_10K.pdf\\', \\'x-amz-bedrock-kb-document-page-number\\': 86.0, \\'x-amz-bedrock-kb-chunk-id\\': \\'1%3A0%3AdkEAC5cBzSQmKS27GvVA\\', \\'x-amz-bedrock-kb-data-source-id\\': \\'VWPQ7C5G7Y\\'}, \\'score\\': 0.6948263}, {\\'content\\': {\\'text\\': \\'We also have a comprehensive training program that helps our employees stay up-to-date on the latest industry trends and best practices. * **Social Responsibility**: We have partnered with several local charities and non-profit organizations to support causes that are important to our employees and clients. We also have a sustainability committee that is responsible for reducing our environmental impact and promoting sustainable practices throughout the organization.     In conclusion, our values are the foundation of everything we do at Octank Financial. We believe that by staying true to our values, we can create a better future for ourselves, our clients, and our communities.     | Value | Description | |---|---| | Integrity | Doing the right thing, even when no one is watching | | Innovation | Staying at the forefront of financial innovation | | Collaboration | Working closely with clients and colleagues | | Excellence | Striving for the best possible service | | Social Responsibility | Making a positive impact on the world around us |Business details about Octank financial     Octank Financial is a leading financial services company that has been providing innovative and comprehensive financial solutions to its clients for over a decade. Founded in 2010 by a group of experienced financial professionals, including PersonA, PersonB, and PersonC, Octank Financial has grown to become a trusted name in the industry, with a reputation for excellence, integrity, and client satisfaction.     At Octank Financial, we specialize in providing a wide range of financial services to individuals, businesses, and institutions.\\', \\'type\\': \\'TEXT\\'}, \\'location\\': {\\'s3Location\\': {\\'uri\\': \\'s3://synthetic-data-kb-5220459-533267284022/octank_financial_10K.pdf\\'}, \\'type\\': \\'S3\\'}, \\'metadata\\': {\\'x-amz-bedrock-kb-source-uri\\': \\'s3://synthetic-data-kb-5220459-533267284022/octank_financial_10K.pdf\\', \\'x-amz-bedrock-kb-document-page-number\\': 85.0, \\'x-amz-bedrock-kb-chunk-id\\': \\'1%3A0%3AdUEAC5cBzSQmKS27GvVA\\', \\'x-amz-bedrock-kb-data-source-id\\': \\'VWPQ7C5G7Y\\'}, \\'score\\': 0.68957764}, {\\'content\\': {\\'text\\': \\'The company offers a range of products and services, including personal loans, business loans, credit cards, and investment services. Octank Financial\\\\\\'s target market is middle-income individuals and small to medium-sized businesses.     Octank Financial has a strong reputation for providing excellent customer service and innovative financial solutions. The company has won numerous awards for its products and services, including the \"Best Personal Loan Provider\" award from Money Magazine in 2021.     ### Basis of Presentation     The consolidated financial statements of Octank Financial are prepared in accordance with U.S. Generally Accepted Accounting Principles (GAAP). The financial statements include the accounts of Octank Financial and its subsidiaries, which are wholly owned by Octank Financial.     The financial statements are presented in U.S. dollars and are rounded to the nearest thousand dollars, except for per share amounts, which are presented in decimal form. The financial statements include notes, which provide additional information about the company\\\\\\'s financial position, results of operations, and cash flows.\\', \\'type\\': \\'TEXT\\'}, \\'location\\': {\\'s3Location\\': {\\'uri\\': \\'s3://synthetic-data-kb-5220459-533267284022/octank_financial_10K.pdf\\'}, \\'type\\': \\'S3\\'}, \\'metadata\\': {\\'x-amz-bedrock-kb-source-uri\\': \\'s3://synthetic-data-kb-5220459-533267284022/octank_financial_10K.pdf\\', \\'x-amz-bedrock-kb-document-page-number\\': 17.0, \\'x-amz-bedrock-kb-chunk-id\\': \\'1%3A0%3AGlcAC5cBwjhvgSIIDiHH\\', \\'x-amz-bedrock-kb-data-source-id\\': \\'VWPQ7C5G7Y\\'}, \\'score\\': 0.6828602}, {\\'content\\': {\\'text\\': \\'We have a team of highly skilled and experienced financial professionals who are dedicated to helping our clients achieve their financial goals.     Our investment banking division provides a full range of services to our clients, including mergers and acquisitions, capital markets, and financial advisory services. We have a proven track record of success in helping our clients navigate complex financial transactions and achieve their strategic objectives. Our wealth management division provides comprehensive wealth management services to high net worth individuals and families. We work closely with our clients to develop customized investment strategies that are tailored to their unique needs and goals.     Our asset management division manages assets for a diverse range of clients, including pension funds, endowments, foundations, and sovereign wealth funds. We have a disciplined investment approach that is focused on generating long-term risk-adjusted returns for our clients. Our corporate finance division provides financial advisory services to middle-market companies. We help our clients raise capital, evaluate strategic alternatives, and execute mergers and acquisitions. Our private equity division invests in growth-oriented companies across a range of industries.     At Octank Financial, we are committed to delivering exceptional service to our clients. We believe that our success is built on the success of our clients, and we are dedicated to helping them achieve their financial goals. We have a client-centric culture that is focused on building long-term relationships with our clients based on trust, transparency, and mutual respect.     Our company has a strong financial position, with robust revenue growth and a solid balance sheet.\\', \\'type\\': \\'TEXT\\'}, \\'location\\': {\\'s3Location\\': {\\'uri\\': \\'s3://synthetic-data-kb-5220459-533267284022/octank_financial_10K.pdf\\'}, \\'type\\': \\'S3\\'}, \\'metadata\\': {\\'x-amz-bedrock-kb-source-uri\\': \\'s3://synthetic-data-kb-5220459-533267284022/octank_financial_10K.pdf\\', \\'x-amz-bedrock-kb-document-page-number\\': 34.0, \\'x-amz-bedrock-kb-chunk-id\\': \\'1%3A0%3AOVcAC5cBwjhvgSIIDiHI\\', \\'x-amz-bedrock-kb-data-source-id\\': \\'VWPQ7C5G7Y\\'}, \\'score\\': 0.6818316}, {\\'content\\': {\\'text\\': \\'We have an ESG risk management program to minimize this risk, but we cannot eliminate it entirely. For example, our investment in a coal-fired power plant has exposed us to reputational and financial risks due to growing concerns about climate change.     ### Foreign Exchange Risk     Octank Financial is exposed to foreign exchange risk due to the possibility that changes in exchange rates could negatively impact the value of our investments or our financial results. We have a foreign exchange risk management program to minimize this risk, but we cannot eliminate it entirely. For instance, our investment in a Brazilian manufacturing company has exposed us to currency risks due to the volatility of the Brazilian real.Business details about Octank financial     Octank Financial is a leading financial services company that has been providing innovative and comprehensive financial solutions to its clients for over a decade. Founded in 2010 by a group of experienced financial professionals, including PersonA, PersonB, and PersonC, Octank Financial has grown to become a trusted name in the industry, with a reputation for excellence, integrity, and client satisfaction.     At Octank Financial, we specialize in providing a wide range of financial services to individuals, businesses, and institutions. Our services include investment banking, wealth management, asset management, corporate finance, and private equity. We have a team of highly skilled and experienced financial professionals who are dedicated to helping our clients achieve their financial goals.\\', \\'type\\': \\'TEXT\\'}, \\'location\\': {\\'s3Location\\': {\\'uri\\': \\'s3://synthetic-data-kb-5220459-533267284022/octank_financial_10K.pdf\\'}, \\'type\\': \\'S3\\'}, \\'metadata\\': {\\'x-amz-bedrock-kb-source-uri\\': \\'s3://synthetic-data-kb-5220459-533267284022/octank_financial_10K.pdf\\', \\'x-amz-bedrock-kb-document-page-number\\': 33.0, \\'x-amz-bedrock-kb-chunk-id\\': \\'1%3A0%3AOFcAC5cBwjhvgSIIDiHI\\', \\'x-amz-bedrock-kb-data-source-id\\': \\'VWPQ7C5G7Y\\'}, \\'score\\': 0.68081576}, {\\'content\\': {\\'text\\': \\'Accessibility: We are committed to making financial services accessible to everyone, regardless of their background, location, or financial status. Our digital-first approach enables us to reach a wider audience and provide them with the tools and resources they need to manage their finances effectively. We are also committed to promoting financial literacy and education, so that our customers can make informed decisions about their financial future. PersonB, our Head of Accessibility, leads our efforts to ensure that our products and services are accessible to all.     Customer-centricity: At Octank Financial, our customers are at the heart of everything we do. We are committed to providing exceptional customer service and building long-term relationships with our customers based on trust, transparency, and mutual respect. Our customer-centric approach is reflected in everything from our user-friendly interface to our personalized financial advice. PersonC, our Chief Customer Officer, oversees our customer experience team and ensures that we are always putting our customers first.     To achieve our mission, we have developed a comprehensive strategy that focuses on three key areas: product development, customer engagement, and community impact.     Product Development: We are committed to developing a range of financial products and services that meet the needs of our customers. Our product development process is customer-led, meaning that we start by understanding the needs and pain points of our customers and then design solutions that address those needs.\\', \\'type\\': \\'TEXT\\'}, \\'location\\': {\\'s3Location\\': {\\'uri\\': \\'s3://synthetic-data-kb-5220459-533267284022/octank_financial_10K.pdf\\'}, \\'type\\': \\'S3\\'}, \\'metadata\\': {\\'x-amz-bedrock-kb-source-uri\\': \\'s3://synthetic-data-kb-5220459-533267284022/octank_financial_10K.pdf\\', \\'x-amz-bedrock-kb-document-page-number\\': 42.0, \\'x-amz-bedrock-kb-chunk-id\\': \\'1%3A0%3ASFcAC5cBwjhvgSIIDiHI\\', \\'x-amz-bedrock-kb-data-source-id\\': \\'VWPQ7C5G7Y\\'}, \\'score\\': 0.6547718}]}'}]}}]},\n",
       " {'role': 'assistant',\n",
       "  'content': [{'text': '# Octank Financial\\'s Business Strategy\\n\\nBased on the information retrieved, here\\'s an overview of Octank Financial\\'s business strategy:\\n\\n## Core Business Focus\\nOctank Financial is a leading financial services company founded in 2010 that provides a comprehensive range of financial services including:\\n- Investment banking (mergers & acquisitions, capital markets, financial advisory)\\n- Wealth management for high-net-worth individuals and families\\n- Asset management for institutional clients (pension funds, endowments, foundations)\\n- Corporate finance for middle-market companies\\n- Private equity investments in growth-oriented companies\\n\\n## Strategic Pillars\\n\\n### 1. Client-Centric Approach\\n- Building long-term relationships with clients based on trust, transparency, and mutual respect\\n- Developing customized investment strategies tailored to clients\\' unique needs and goals\\n- Following a \"digital-first\" approach to make financial services accessible to a wider audience\\n\\n### 2. Innovation and Excellence\\n- Commitment to staying at the forefront of financial innovation\\n- Using technology and creativity to deliver optimal solutions to clients\\n- Providing comprehensive training to employees to stay updated on industry trends\\n\\n### 3. Financial Strength\\n- Strong financial position with robust revenue growth ($2.5 billion in 2021, a 15% increase)\\n- Solid balance sheet with $1 billion in cash and cash equivalents\\n- Disciplined investment approach focused on generating long-term risk-adjusted returns\\n\\n### 4. Talent Development\\n- Team of over 1,000 diverse and talented professionals with extensive experience\\n- Focus on creating a positive and inclusive workplace culture\\n- Commitment to diversity, equity, and inclusion\\n\\n### 5. Corporate Social Responsibility\\n- Dedicated program supporting education, healthcare, and environmental sustainability\\n- Partnerships with local charities and non-profit organizations\\n- Sustainability committee responsible for reducing environmental impact\\n\\n## Core Values\\n1. Integrity - Upholding the highest ethical standards\\n2. Innovation - Embracing new technologies and creative solutions\\n3. Collaboration - Working closely with clients and colleagues\\n4. Excellence - Striving for the best possible service\\n5. Social Responsibility - Making a positive impact on society\\n\\nOctank Financial\\'s business strategy is built around delivering exceptional financial services while maintaining strong client relationships, fostering innovation, and contributing positively to communities.'}]},\n",
       " {'role': 'user',\n",
       "  'content': [{'text': 'What is the total spending by all customers?'}]},\n",
       " {'role': 'assistant',\n",
       "  'content': [{'text': \"I'll help you find information about the total spending by all customers. This question requires calculating or retrieving specific financial data, so I'll use the structured data assistant.\"},\n",
       "   {'toolUse': {'toolUseId': 'tooluse_ZjXPUqmcQg-Bm4ZkgkqX8w',\n",
       "     'name': 'structured_data_assistant',\n",
       "     'input': {'query': 'What is the total spending by all customers?'}}}]},\n",
       " {'role': 'user',\n",
       "  'content': [{'toolResult': {'toolUseId': 'tooluse_ZjXPUqmcQg-Bm4ZkgkqX8w',\n",
       "     'status': 'success',\n",
       "     'content': [{'text': \"{'ResponseMetadata': {'RequestId': '380c1d75-1749-4a6f-b783-15d26f58caeb', 'HTTPStatusCode': 200, 'HTTPHeaders': {'date': 'Fri, 20 Jun 2025 20:23:12 GMT', 'content-type': 'application/json', 'content-length': '246', 'connection': 'keep-alive', 'x-amzn-requestid': '380c1d75-1749-4a6f-b783-15d26f58caeb'}, 'RetryAttempts': 0}, 'retrievalResults': [{'content': {'row': [{'columnName': 'total_spending', 'columnValue': '5078473.69', 'type': 'STRING'}], 'type': 'ROW'}, 'location': {'sqlLocation': {'query': 'SELECT SUM(order_total) AS total_spending FROM public.orders;'}, 'type': 'SQL'}}]}\"}]}}]},\n",
       " {'role': 'assistant',\n",
       "  'content': [{'text': \"# Total Customer Spending\\n\\nBased on the data retrieved from the structured database, the total spending by all customers at Octank Financial is:\\n\\n**$5,078,473.69**\\n\\nThis figure represents the sum of all order totals in the company's order database.\"}]}]"
      ]
     },
     "execution_count": 10,
     "metadata": {},
     "output_type": "execute_result"
    }
   ],
   "source": [
    "orchestrator.messages"
   ]
  },
  {
   "cell_type": "code",
   "execution_count": null,
   "id": "f920c466",
   "metadata": {},
   "outputs": [],
   "source": []
  }
 ],
 "metadata": {
  "kernelspec": {
   "display_name": "Python 3",
   "language": "python",
   "name": "python3"
  },
  "language_info": {
   "codemirror_mode": {
    "name": "ipython",
    "version": 3
   },
   "file_extension": ".py",
   "mimetype": "text/x-python",
   "name": "python",
   "nbconvert_exporter": "python",
   "pygments_lexer": "ipython3",
   "version": "3.12.10"
  }
 },
 "nbformat": 4,
 "nbformat_minor": 5
}
