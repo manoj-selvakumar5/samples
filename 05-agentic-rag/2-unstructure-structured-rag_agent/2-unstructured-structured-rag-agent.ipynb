{
 "cells": [
  {
   "cell_type": "markdown",
   "id": "5f68b737",
   "metadata": {},
   "source": [
    "# Unstructured and Structured RAG with Intelligent Query Routing\n",
    "\n",
    "This notebook demonstrates an advanced RAG pattern that intelligently routes queries between **structured** and **unstructured** knowledge bases using **Strands Agents** \n",
    "\n",
    "## Overview\n",
    "\n",
    "The system uses custom retrieval tools that connect to Amazon Bedrock Knowledge Bases:\n",
    "1. **Query Analysis**: Agent analyzes incoming query to determine type\n",
    "2. **Tool Selection**: Routes to unstructured (document) or structured (SQL) assistant\n",
    "3. **Retrieval**: Appropriate knowledge base retrieves relevant information\n",
    "4. **Response Generation**: Agent synthesizes and presents the results\n",
    "\n",
    "This approach enables handling both qualitative questions (business strategy, policies) and quantitative queries (financial metrics, data analysis) within a single conversational interface."
   ]
  },
  {
   "cell_type": "markdown",
   "id": "9e693a8a",
   "metadata": {
    "vscode": {
     "languageId": "raw"
    }
   },
   "source": [
    "## Prerequisites and Setup\n",
    "\n",
    "Before running this notebook, ensure you have completed:\n",
    "1. **`0-prerequisites-structured-kb.ipynb`** - Sets up Redshift-based structured Amazon Bedrock Knowledge Base\n",
    "2. **`1-prerequisites-unstructured-kb.ipynb`** - Sets up document-based unstructured Amazon Bedrock Knowledge Base\n",
    "\n",
    "\n",
    "Let's start by importing the required libraries:\n"
   ]
  },
  {
   "cell_type": "code",
   "execution_count": 2,
   "id": "1ce61780",
   "metadata": {},
   "outputs": [],
   "source": [
    "import os\n",
    "import boto3\n",
    "from strands import Agent, tool"
   ]
  },
  {
   "cell_type": "code",
   "execution_count": 3,
   "id": "0a124047",
   "metadata": {},
   "outputs": [],
   "source": [
    "# Set up AWS region and  Amazon Bedrock Agent Runtime client for knowledge base interactions\n",
    "region = boto3.Session().region_name \n",
    "bedrock_agent_runtime = boto3.client('bedrock-agent-runtime', region_name=region)"
   ]
  },
  {
   "cell_type": "markdown",
   "id": "7027308c",
   "metadata": {
    "vscode": {
     "languageId": "raw"
    }
   },
   "source": [
    "### Load Knowledge Base Configuration\n",
    "\n",
    "Load the knowledge base IDs from the prerequisite notebooks:\n"
   ]
  },
  {
   "cell_type": "code",
   "execution_count": 4,
   "id": "e14a35ce",
   "metadata": {},
   "outputs": [],
   "source": [
    "UNSTRUCTURED_KB_ID = \"FJ6OIBKNMP\"  \n",
    "STRUCTURED_KB_ID = \"G5F1E2PFCI\"  \n",
    "# # Retrieve stored knowledge base IDs from prerequisite notebooks\n",
    "# %store -r unstructured_kb_id\n",
    "# %store -r structured_kb_id \n",
    "# %store -r kb_region\n",
    "# %store -r structured_kb_region\n",
    "\n",
    "# # Use the stored values\n",
    "# UNSTRUCTURED_KB_ID = unstructured_kb_id  # From 1-prerequisites-unstructured-kb.ipynb\n",
    "# STRUCTURED_KB_ID = structured_kb_id      # From 0-prerequisites-structured-kb.ipynb\n",
    "\n",
    "\n",
    "# print(\"=\"*60)\n",
    "# print(f\"Unstructured KB ID: {UNSTRUCTURED_KB_ID}\")\n",
    "# print(f\"Structured KB ID: {STRUCTURED_KB_ID}\")\n",
    "# print(f\"Unstructured KB Region: {kb_region}\")\n",
    "# print(f\"Structured KB Region: {structured_kb_region}\")\n"
   ]
  },
  {
   "cell_type": "markdown",
   "id": "5430596f",
   "metadata": {
    "vscode": {
     "languageId": "raw"
    }
   },
   "source": [
    "## Custom Retrieval Tools\n",
    "\n",
    "We will create two specialized tools using the Strands Agents `@tool` decorator. Each tool handles different types of queries by connecting to the appropriate knowledge base.\n",
    "\n",
    "### Unstructured Data Assistant Tool\n",
    "\n",
    "This tool handles document-based queries by retrieving information from the unstructured knowledge base (PDF documents, reports, policies):\n"
   ]
  },
  {
   "cell_type": "code",
   "execution_count": 5,
   "id": "ab213cb6",
   "metadata": {},
   "outputs": [],
   "source": [
    "@tool\n",
    "def unstructured_data_assistant(query: str) -> str:\n",
    "    \"\"\"\n",
    "    Handle document-based, narrative, and conceptual queries using the unstructured knowledge base.\n",
    "    \n",
    "    Args:\n",
    "        query: A question about business strategies, policies, company information, \n",
    "               or requiring document comprehension and qualitative analysis\n",
    "    \n",
    "    Returns:\n",
    "        Raw retrieve response from the unstructured knowledge base\n",
    "    \"\"\"\n",
    "    try:\n",
    "        retrieve_response = bedrock_agent_runtime.retrieve(\n",
    "            knowledgeBaseId=UNSTRUCTURED_KB_ID,\n",
    "            retrievalQuery={'text': query},\n",
    "            retrievalConfiguration={\n",
    "                'vectorSearchConfiguration': {\n",
    "                    'numberOfResults': 10,\n",
    "                }\n",
    "            }\n",
    "        )\n",
    "        \n",
    "        return retrieve_response\n",
    "        \n",
    "    except Exception as e:\n",
    "        return f\"Error in unstructured data assistant: {str(e)}\"\n"
   ]
  },
  {
   "cell_type": "markdown",
   "id": "c3ea5d94",
   "metadata": {
    "vscode": {
     "languageId": "raw"
    }
   },
   "source": [
    "### Structured Data Assistant Tool\n",
    "\n",
    "This tool handles data analysis queries by retrieving information from the structured knowledge base (SQL/Redshift database):\n"
   ]
  },
  {
   "cell_type": "code",
   "execution_count": 6,
   "id": "05754788",
   "metadata": {},
   "outputs": [],
   "source": [
    "@tool\n",
    "def structured_data_assistant(query: str) -> str:\n",
    "    \"\"\"\n",
    "    Handle data analysis, metrics, and quantitative queries using the structured knowledge base.\n",
    "    \n",
    "    Args:\n",
    "        query: A question requiring calculations, aggregations, statistical analysis,\n",
    "               or database operations on structured data\n",
    "    \n",
    "    Returns:\n",
    "        Raw retrieve response from the structured knowledge base\n",
    "    \"\"\"\n",
    "    try:\n",
    "        retrieve_response = bedrock_agent_runtime.retrieve(\n",
    "            knowledgeBaseId=STRUCTURED_KB_ID,\n",
    "            retrievalQuery={'text': query},\n",
    "            retrievalConfiguration={\n",
    "                'vectorSearchConfiguration': {\n",
    "                    'numberOfResults': 10,\n",
    "                }\n",
    "            }\n",
    "        )\n",
    "        \n",
    "        return retrieve_response\n",
    "        \n",
    "    except Exception as e:\n",
    "        return f\"Error in structured data assistant: {str(e)}\"\n"
   ]
  },
  {
   "cell_type": "markdown",
   "id": "0244b523",
   "metadata": {
    "vscode": {
     "languageId": "raw"
    }
   },
   "source": [
    "## Intelligent Agent with Query Routing\n",
    "\n",
    "Now we'll create the orchestrator agent with our custom tools and system prompt that intelligently routes queries to the appropriate tool based on the query type and content.\n"
   ]
  },
  {
   "cell_type": "code",
   "execution_count": 7,
   "id": "28210932",
   "metadata": {},
   "outputs": [],
   "source": [
    "# Create the orchestrator agent with both tools\n",
    "orchestrator = Agent(\n",
    "    system_prompt=\"\"\"You are an intelligent assistant that routes queries to the appropriate knowledge base. Choose the appropriate tool based on the query type. \n",
    "    The tools return raw data that you should analyze and present in a clear, helpful format.\"\"\",\n",
    "    tools=[\n",
    "        unstructured_data_assistant,\n",
    "        structured_data_assistant\n",
    "    ]\n",
    ")"
   ]
  },
  {
   "cell_type": "markdown",
   "id": "4ff1d2a7",
   "metadata": {
    "vscode": {
     "languageId": "raw"
    }
   },
   "source": [
    "Let's test our agent with different types of queries to observe how it routes them to the appropriate knowledge bases.\n",
    "\n",
    "### Example 1: Unstructured Query - Business Strategy\n",
    "\n",
    "This query asks about qualitative, document-based information and should be routed to the unstructured knowledge base:\n"
   ]
  },
  {
   "cell_type": "code",
   "execution_count": 8,
   "id": "e3f98e97",
   "metadata": {},
   "outputs": [
    {
     "name": "stdout",
     "output_type": "stream",
     "text": [
      "=== EXAMPLE 1: BUSINESS STRATEGY QUERY ===\n",
      "Query: What is Octank Financial's business strategy?\n",
      "\n",
      "I'll help you find information about Octank Financial's business strategy by querying our knowledge base. This is a question about company information and business strategies, so I'll use the appropriate tool for that.\n",
      "Tool #1: unstructured_data_assistant\n",
      "# Octank Financial's Business Strategy\n",
      "\n",
      "Based on the information retrieved from Octank Financial's documentation, here's a comprehensive overview of their business strategy:\n",
      "\n",
      "## Core Business Focus\n",
      "Octank Financial is a leading financial services company that provides a wide range of services including:\n",
      "- Investment banking\n",
      "- Wealth management\n",
      "- Asset management\n",
      "- Corporate finance\n",
      "- Private equity\n",
      "\n",
      "## Strategic Pillars\n",
      "\n",
      "### 1. Client-Centric Approach\n",
      "- Building long-term relationships with clients based on trust, transparency, and mutual respect\n",
      "- Delivering exceptional service tailored to clients' unique needs and goals\n",
      "- Working closely with clients to develop customized investment strategies\n",
      "\n",
      "### 2. Innovation and Excellence\n",
      "- Commitment to staying at the forefront of financial innovation\n",
      "- Using technology and creativity to deliver the best possible solutions\n",
      "- Maintaining high ethical standards and integrity in all operations\n",
      "\n",
      "### 3. Talent Development\n",
      "- Employing over 1,000 professionals from diverse backgrounds\n",
      "- Team includes investment bankers, wealth managers, asset managers, corporate financiers, and private equity investors\n",
      "- Comprehensive training programs to keep employees up-to-date on industry trends\n",
      "\n",
      "### 4. Digital-First Accessibility\n",
      "- Making financial services accessible to everyone regardless of background or financial status\n",
      "- Promoting financial literacy and education\n",
      "- User-friendly interfaces and personalized financial advice\n",
      "\n",
      "### 5. Financial Strength\n",
      "- Maintaining a strong financial position with robust revenue growth\n",
      "- Solid balance sheet with significant cash reserves\n",
      "- In 2021, they reported revenues of $2.5 billion (15% increase over previous year)\n",
      "- Net income of $500 million in 2021 (up from $400 million in 2020)\n",
      "\n",
      "### 6. Corporate Social Responsibility\n",
      "- Focus on supporting education, healthcare, and environmental sustainability\n",
      "- Partnerships with local charities and non-profit organizations\n",
      "- Sustainability committee to reduce environmental impact and promote sustainable practices\n",
      "\n",
      "Octank Financial focuses on a customer-led product development process that starts by understanding customer needs and pain points before designing solutions, all guided by their core values of integrity, innovation, collaboration, excellence, and social responsibility.# Octank Financial's Business Strategy\n",
      "\n",
      "Based on the information retrieved from Octank Financial's documentation, here's a comprehensive overview of their business strategy:\n",
      "\n",
      "## Core Business Focus\n",
      "Octank Financial is a leading financial services company that provides a wide range of services including:\n",
      "- Investment banking\n",
      "- Wealth management\n",
      "- Asset management\n",
      "- Corporate finance\n",
      "- Private equity\n",
      "\n",
      "## Strategic Pillars\n",
      "\n",
      "### 1. Client-Centric Approach\n",
      "- Building long-term relationships with clients based on trust, transparency, and mutual respect\n",
      "- Delivering exceptional service tailored to clients' unique needs and goals\n",
      "- Working closely with clients to develop customized investment strategies\n",
      "\n",
      "### 2. Innovation and Excellence\n",
      "- Commitment to staying at the forefront of financial innovation\n",
      "- Using technology and creativity to deliver the best possible solutions\n",
      "- Maintaining high ethical standards and integrity in all operations\n",
      "\n",
      "### 3. Talent Development\n",
      "- Employing over 1,000 professionals from diverse backgrounds\n",
      "- Team includes investment bankers, wealth managers, asset managers, corporate financiers, and private equity investors\n",
      "- Comprehensive training programs to keep employees up-to-date on industry trends\n",
      "\n",
      "### 4. Digital-First Accessibility\n",
      "- Making financial services accessible to everyone regardless of background or financial status\n",
      "- Promoting financial literacy and education\n",
      "- User-friendly interfaces and personalized financial advice\n",
      "\n",
      "### 5. Financial Strength\n",
      "- Maintaining a strong financial position with robust revenue growth\n",
      "- Solid balance sheet with significant cash reserves\n",
      "- In 2021, they reported revenues of $2.5 billion (15% increase over previous year)\n",
      "- Net income of $500 million in 2021 (up from $400 million in 2020)\n",
      "\n",
      "### 6. Corporate Social Responsibility\n",
      "- Focus on supporting education, healthcare, and environmental sustainability\n",
      "- Partnerships with local charities and non-profit organizations\n",
      "- Sustainability committee to reduce environmental impact and promote sustainable practices\n",
      "\n",
      "Octank Financial focuses on a customer-led product development process that starts by understanding customer needs and pain points before designing solutions, all guided by their core values of integrity, innovation, collaboration, excellence, and social responsibility.\n",
      "\n"
     ]
    }
   ],
   "source": [
    "# EXAMPLE 1: Business Strategy Query (should use unstructured_data_assistant)\n",
    "print(\"=== EXAMPLE 1: BUSINESS STRATEGY QUERY ===\")\n",
    "print(\"Query: What is Octank Financial's business strategy?\")\n",
    "print()\n",
    "\n",
    "response = orchestrator(\"What is Octank Financial's business strategy?\")\n",
    "print(response)"
   ]
  },
  {
   "cell_type": "markdown",
   "id": "ee7c72e2",
   "metadata": {
    "vscode": {
     "languageId": "raw"
    }
   },
   "source": [
    "### Example 2: Structured Query - Financial Metrics\n",
    "\n",
    "This query asks for quantitative data analysis and should be routed to the structured knowledge base:\n"
   ]
  },
  {
   "cell_type": "code",
   "execution_count": 9,
   "id": "174d11ac",
   "metadata": {},
   "outputs": [
    {
     "name": "stdout",
     "output_type": "stream",
     "text": [
      "=== EXAMPLE 2: FINANCIAL DATA QUERY ===\n",
      "Query: What is the total spending by all customers?\n",
      "\n",
      "I'll help you find information about the total spending by all customers of Octank Financial. This question requires analysis of numerical data, so I'll use the structured data assistant to retrieve this information.\n",
      "Tool #2: structured_data_assistant\n",
      "# Total Customer Spending\n",
      "\n",
      "Based on the query results from Octank Financial's database, the total spending by all customers is:\n",
      "\n",
      "**$5,078,473.69** (Five million, seventy-eight thousand, four hundred seventy-three dollars and sixty-nine cents)\n",
      "\n",
      "This figure represents the sum of all order totals in the company's transaction records.# Total Customer Spending\n",
      "\n",
      "Based on the query results from Octank Financial's database, the total spending by all customers is:\n",
      "\n",
      "**$5,078,473.69** (Five million, seventy-eight thousand, four hundred seventy-three dollars and sixty-nine cents)\n",
      "\n",
      "This figure represents the sum of all order totals in the company's transaction records.\n",
      "\n"
     ]
    }
   ],
   "source": [
    "# EXAMPLE 2: Financial Data Query (should use structured_data_assistant)\n",
    "print(\"=== EXAMPLE 2: FINANCIAL DATA QUERY ===\")\n",
    "print(\"Query: What is the total spending by all customers?\")\n",
    "print()\n",
    "\n",
    "response = orchestrator(\"What is the total spending by all customers?\")\n",
    "print(response)\n"
   ]
  },
  {
   "cell_type": "markdown",
   "id": "7abd3c16",
   "metadata": {
    "vscode": {
     "languageId": "raw"
    }
   },
   "source": [
    "## Agent Thinking Inspection\n",
    "\n",
    "One of the powerful features of Strands Agents is the ability to inspect the agent's internal reasoning process. Let's examine how the agent made its decisions:\n",
    "\n",
    "### Message History Analysis\n"
   ]
  },
  {
   "cell_type": "code",
   "execution_count": 10,
   "id": "fe720bcd",
   "metadata": {},
   "outputs": [
    {
     "data": {
      "text/plain": [
       "[{'role': 'user',\n",
       "  'content': [{'text': \"What is Octank Financial's business strategy?\"}]},\n",
       " {'role': 'assistant',\n",
       "  'content': [{'text': \"I'll help you find information about Octank Financial's business strategy by querying our knowledge base. This is a question about company information and business strategies, so I'll use the appropriate tool for that.\"},\n",
       "   {'toolUse': {'toolUseId': 'tooluse_SsBe3pmZT5qzUkJEyqtNXw',\n",
       "     'name': 'unstructured_data_assistant',\n",
       "     'input': {'query': \"What is Octank Financial's business strategy?\"}}}]},\n",
       " {'role': 'user',\n",
       "  'content': [{'toolResult': {'toolUseId': 'tooluse_SsBe3pmZT5qzUkJEyqtNXw',\n",
       "     'status': 'success',\n",
       "     'content': [{'text': '{\\'ResponseMetadata\\': {\\'RequestId\\': \\'38db5fab-cb7d-48c7-90a2-3a169b087add\\', \\'HTTPStatusCode\\': 200, \\'HTTPHeaders\\': {\\'date\\': \\'Mon, 23 Jun 2025 02:01:30 GMT\\', \\'content-type\\': \\'application/json\\', \\'content-length\\': \\'19778\\', \\'connection\\': \\'keep-alive\\', \\'x-amzn-requestid\\': \\'38db5fab-cb7d-48c7-90a2-3a169b087add\\'}, \\'RetryAttempts\\': 0}, \\'retrievalResults\\': [{\\'content\\': {\\'text\\': \\'At Octank Financial, we are committed to delivering exceptional service to our clients. We believe that our success is built on the success of our clients, and we are dedicated to helping them achieve their financial goals. We have a client-centric culture that is focused on building long-term relationships with our clients based on trust, transparency, and mutual respect.     Our company has a strong financial position, with robust revenue growth and a solid balance sheet. In 2021, we reported revenues of $2.5 billion, representing a 15% increase over the previous year. Our net income for the year was $500 million, up from $400 million in 2020. We have a strong cash position, with $1 billion in cash and cash equivalents on our balance sheet.     We are proud of our diverse and talented team of professionals, who come from a range of backgrounds and bring a wealth of experience and expertise to our company. Our team includes over 1,000 professionals, including investment bankers, wealth managers, asset managers, corporate financiers, and private equity investors. We are committed to creating a positive and inclusive workplace culture that values diversity, equity, and inclusion.     At Octank Financial, we are committed to giving back to our communities and making a positive impact on society. We have a corporate social responsibility program that is focused on supporting education, healthcare, and environmental sustainability.\\', \\'type\\': \\'TEXT\\'}, \\'location\\': {\\'s3Location\\': {\\'uri\\': \\'s3://synthetic-data-kb-5220459-533267284022/octank_financial_10K.pdf\\'}, \\'type\\': \\'S3\\'}, \\'metadata\\': {\\'x-amz-bedrock-kb-source-uri\\': \\'s3://synthetic-data-kb-5220459-533267284022/octank_financial_10K.pdf\\', \\'x-amz-bedrock-kb-document-page-number\\': 86.0, \\'x-amz-bedrock-kb-chunk-id\\': \\'1%3A0%3Ad0EAC5cBzSQmKS27GvVA\\', \\'x-amz-bedrock-kb-data-source-id\\': \\'VWPQ7C5G7Y\\'}, \\'score\\': 0.7203866}, {\\'content\\': {\\'text\\': \\'We have a client-centric culture that is focused on building long-term relationships with our clients based on trust, transparency, and mutual respect.     Our company has a strong financial position, with robust revenue growth and a solid balance sheet. In 2021, we reported revenues of $2.5 billion, representing a 15% increase over the previous year. Our net income for the year was $500 million, up from $400 million in 2020. We have a strong cash position, with $1 billion in cash and cash equivalents on our balance sheet.     We are proud of our diverse and talented team of professionals, who come from a range of backgrounds and bring a wealth of experience and expertise to our company. Our team includes over 1,000 professionals, including investment bankers, wealth managers, asset managers, corporate financiers, and private equity investors. We are committed to creating a positive and inclusive workplace culture that values diversity, equity, and inclusion.     At Octank Financial, we are committed to giving back to our communities and making a positive impact on society. We have a corporate social responsibility program that is focused on supporting education, healthcare, and environmental sustainability. We believe that by investing in ourcommunities, we can help create a better future for everyone.     In conclusion, Octank Financial is a leading financial services company that is dedicated to providing innovative and comprehensive financial solutions to our clients.\\', \\'type\\': \\'TEXT\\'}, \\'location\\': {\\'s3Location\\': {\\'uri\\': \\'s3://synthetic-data-kb-5220459-533267284022/octank_financial_10K.pdf\\'}, \\'type\\': \\'S3\\'}, \\'metadata\\': {\\'x-amz-bedrock-kb-source-uri\\': \\'s3://synthetic-data-kb-5220459-533267284022/octank_financial_10K.pdf\\', \\'x-amz-bedrock-kb-document-page-number\\': 34.0, \\'x-amz-bedrock-kb-chunk-id\\': \\'1%3A0%3AOlcAC5cBwjhvgSIIDiHI\\', \\'x-amz-bedrock-kb-data-source-id\\': \\'VWPQ7C5G7Y\\'}, \\'score\\': 0.717467}, {\\'content\\': {\\'text\\': \"We believe that by investing in ourcommunities, we can help create a better future for everyone.     In conclusion, Octank Financial is a leading financial services company that is dedicated to providing innovative and comprehensive financial solutions to our clients. We have a strong financial position, a talented and diverse team of professionals, and a commitment to delivering exceptional service to our clients. We are proud of our track record of success and are excited about the opportunities that lie ahead.Values of Octank financial     At Octank Financial, our values are the bedrock upon which we build our relationships with clients, employees, and the communities we serve. We believe that a strong commitment to our values is essential for long-term success and growth. Here are the core values that define who we are and what we stand for:     1. **Integrity**: At Octank Financial, we hold ourselves to the highest ethical standards. We believe in doing the right thing, even when no one is watching. Our commitment to integrity is reflected in everything we do, from our interactions with clients to our financial reporting. We believe that transparency and honesty are essential for building trust, and we strive to earn our clients\\' trust every day.     2. **Innovation**: We are committed to staying at the forefront of financial innovation. We believe that technology and creativity are essential for delivering the best possible solutions to our clients. Our team of experts is always looking for new ways to solve problems and create value.\", \\'type\\': \\'TEXT\\'}, \\'location\\': {\\'s3Location\\': {\\'uri\\': \\'s3://synthetic-data-kb-5220459-533267284022/octank_financial_10K.pdf\\'}, \\'type\\': \\'S3\\'}, \\'metadata\\': {\\'x-amz-bedrock-kb-source-uri\\': \\'s3://synthetic-data-kb-5220459-533267284022/octank_financial_10K.pdf\\', \\'x-amz-bedrock-kb-document-page-number\\': 34.0, \\'x-amz-bedrock-kb-chunk-id\\': \\'1%3A0%3AO1cAC5cBwjhvgSIIDiHI\\', \\'x-amz-bedrock-kb-data-source-id\\': \\'VWPQ7C5G7Y\\'}, \\'score\\': 0.7167235}, {\\'content\\': {\\'text\\': \\'At Octank Financial, we are committed to giving back to our communities and making a positive impact on society. We have a corporate social responsibility program that is focused on supporting education, healthcare, and environmental sustainability. We believe that by investing in ourcommunities, we can help create a better future for everyone.     In conclusion, Octank Financial is a leading financial services company that is dedicated to providing innovative and comprehensive financial solutions to our clients. We have a strong financial position, a talented and diverse team of professionals, and a commitment to delivering exceptional service to our clients. We are proud of our track record of success and are excited about the opportunities that lie ahead.Risk Factors about Octank financial     Risk Factors ------------     Investing in Octank Financial involves various risks, including those outlined below. An investment in Octank Financial should be considered only by persons who can afford the loss of their entire investment.     ### Market Risk     Octank Financial is exposed to market risk due to the volatility of the financial markets. Factors such as changes in interest rates, inflation, economic downturns, political instability, and natural disasters can negatively impact the performance of our investments and, consequently, our financial results.\\', \\'type\\': \\'TEXT\\'}, \\'location\\': {\\'s3Location\\': {\\'uri\\': \\'s3://synthetic-data-kb-5220459-533267284022/octank_financial_10K.pdf\\'}, \\'type\\': \\'S3\\'}, \\'metadata\\': {\\'x-amz-bedrock-kb-source-uri\\': \\'s3://synthetic-data-kb-5220459-533267284022/octank_financial_10K.pdf\\', \\'x-amz-bedrock-kb-document-page-number\\': 86.0, \\'x-amz-bedrock-kb-chunk-id\\': \\'1%3A0%3AeEEAC5cBzSQmKS27GvVA\\', \\'x-amz-bedrock-kb-data-source-id\\': \\'VWPQ7C5G7Y\\'}, \\'score\\': 0.697276}, {\\'content\\': {\\'text\\': \\'At Octank Financial, we specialize in providing a wide range of financial services to individuals, businesses, and institutions. Our services include investment banking, wealth management, asset management, corporate finance, and private equity. We have a team of highly skilled and experienced financial professionals who are dedicated to helping our clients achieve their financial goals.     Our investment banking division provides a full range of services to our clients, including mergers and acquisitions, capital markets, and financial advisory services. We have a proven track record of success in helping our clients navigate complex financial transactions and achieve their strategic objectives. Our wealth management division provides comprehensive wealth management services to high net worth individuals and families. We work closely with our clients to develop customized investment strategies that are tailored to their unique needs and goals.     Our asset management division manages assets for a diverse range of clients, including pension funds, endowments, foundations, and sovereign wealth funds. We have a disciplined investment approach that is focused on generating long-term risk-adjusted returns for our clients. Our corporate finance division provides financial advisory services to middle-market companies. We help our clients raise capital, evaluate strategic alternatives, and execute mergers and acquisitions. Our private equity division invests in growth-oriented companies across a range of industries.     At Octank Financial, we are committed to delivering exceptional service to our clients. We believe that our success is built on the success of our clients, and we are dedicated to helping them achieve their financial goals.\\', \\'type\\': \\'TEXT\\'}, \\'location\\': {\\'s3Location\\': {\\'uri\\': \\'s3://synthetic-data-kb-5220459-533267284022/octank_financial_10K.pdf\\'}, \\'type\\': \\'S3\\'}, \\'metadata\\': {\\'x-amz-bedrock-kb-source-uri\\': \\'s3://synthetic-data-kb-5220459-533267284022/octank_financial_10K.pdf\\', \\'x-amz-bedrock-kb-document-page-number\\': 86.0, \\'x-amz-bedrock-kb-chunk-id\\': \\'1%3A0%3AdkEAC5cBzSQmKS27GvVA\\', \\'x-amz-bedrock-kb-data-source-id\\': \\'VWPQ7C5G7Y\\'}, \\'score\\': 0.69482636}, {\\'content\\': {\\'text\\': \\'We also have a comprehensive training program that helps our employees stay up-to-date on the latest industry trends and best practices. * **Social Responsibility**: We have partnered with several local charities and non-profit organizations to support causes that are important to our employees and clients. We also have a sustainability committee that is responsible for reducing our environmental impact and promoting sustainable practices throughout the organization.     In conclusion, our values are the foundation of everything we do at Octank Financial. We believe that by staying true to our values, we can create a better future for ourselves, our clients, and our communities.     | Value | Description | |---|---| | Integrity | Doing the right thing, even when no one is watching | | Innovation | Staying at the forefront of financial innovation | | Collaboration | Working closely with clients and colleagues | | Excellence | Striving for the best possible service | | Social Responsibility | Making a positive impact on the world around us |Business details about Octank financial     Octank Financial is a leading financial services company that has been providing innovative and comprehensive financial solutions to its clients for over a decade. Founded in 2010 by a group of experienced financial professionals, including PersonA, PersonB, and PersonC, Octank Financial has grown to become a trusted name in the industry, with a reputation for excellence, integrity, and client satisfaction.     At Octank Financial, we specialize in providing a wide range of financial services to individuals, businesses, and institutions.\\', \\'type\\': \\'TEXT\\'}, \\'location\\': {\\'s3Location\\': {\\'uri\\': \\'s3://synthetic-data-kb-5220459-533267284022/octank_financial_10K.pdf\\'}, \\'type\\': \\'S3\\'}, \\'metadata\\': {\\'x-amz-bedrock-kb-source-uri\\': \\'s3://synthetic-data-kb-5220459-533267284022/octank_financial_10K.pdf\\', \\'x-amz-bedrock-kb-document-page-number\\': 85.0, \\'x-amz-bedrock-kb-chunk-id\\': \\'1%3A0%3AdUEAC5cBzSQmKS27GvVA\\', \\'x-amz-bedrock-kb-data-source-id\\': \\'VWPQ7C5G7Y\\'}, \\'score\\': 0.6895776}, {\\'content\\': {\\'text\\': \\'The company offers a range of products and services, including personal loans, business loans, credit cards, and investment services. Octank Financial\\\\\\'s target market is middle-income individuals and small to medium-sized businesses.     Octank Financial has a strong reputation for providing excellent customer service and innovative financial solutions. The company has won numerous awards for its products and services, including the \"Best Personal Loan Provider\" award from Money Magazine in 2021.     ### Basis of Presentation     The consolidated financial statements of Octank Financial are prepared in accordance with U.S. Generally Accepted Accounting Principles (GAAP). The financial statements include the accounts of Octank Financial and its subsidiaries, which are wholly owned by Octank Financial.     The financial statements are presented in U.S. dollars and are rounded to the nearest thousand dollars, except for per share amounts, which are presented in decimal form. The financial statements include notes, which provide additional information about the company\\\\\\'s financial position, results of operations, and cash flows.\\', \\'type\\': \\'TEXT\\'}, \\'location\\': {\\'s3Location\\': {\\'uri\\': \\'s3://synthetic-data-kb-5220459-533267284022/octank_financial_10K.pdf\\'}, \\'type\\': \\'S3\\'}, \\'metadata\\': {\\'x-amz-bedrock-kb-source-uri\\': \\'s3://synthetic-data-kb-5220459-533267284022/octank_financial_10K.pdf\\', \\'x-amz-bedrock-kb-document-page-number\\': 17.0, \\'x-amz-bedrock-kb-chunk-id\\': \\'1%3A0%3AGlcAC5cBwjhvgSIIDiHH\\', \\'x-amz-bedrock-kb-data-source-id\\': \\'VWPQ7C5G7Y\\'}, \\'score\\': 0.6828602}, {\\'content\\': {\\'text\\': \\'We have a team of highly skilled and experienced financial professionals who are dedicated to helping our clients achieve their financial goals.     Our investment banking division provides a full range of services to our clients, including mergers and acquisitions, capital markets, and financial advisory services. We have a proven track record of success in helping our clients navigate complex financial transactions and achieve their strategic objectives. Our wealth management division provides comprehensive wealth management services to high net worth individuals and families. We work closely with our clients to develop customized investment strategies that are tailored to their unique needs and goals.     Our asset management division manages assets for a diverse range of clients, including pension funds, endowments, foundations, and sovereign wealth funds. We have a disciplined investment approach that is focused on generating long-term risk-adjusted returns for our clients. Our corporate finance division provides financial advisory services to middle-market companies. We help our clients raise capital, evaluate strategic alternatives, and execute mergers and acquisitions. Our private equity division invests in growth-oriented companies across a range of industries.     At Octank Financial, we are committed to delivering exceptional service to our clients. We believe that our success is built on the success of our clients, and we are dedicated to helping them achieve their financial goals. We have a client-centric culture that is focused on building long-term relationships with our clients based on trust, transparency, and mutual respect.     Our company has a strong financial position, with robust revenue growth and a solid balance sheet.\\', \\'type\\': \\'TEXT\\'}, \\'location\\': {\\'s3Location\\': {\\'uri\\': \\'s3://synthetic-data-kb-5220459-533267284022/octank_financial_10K.pdf\\'}, \\'type\\': \\'S3\\'}, \\'metadata\\': {\\'x-amz-bedrock-kb-source-uri\\': \\'s3://synthetic-data-kb-5220459-533267284022/octank_financial_10K.pdf\\', \\'x-amz-bedrock-kb-document-page-number\\': 34.0, \\'x-amz-bedrock-kb-chunk-id\\': \\'1%3A0%3AOVcAC5cBwjhvgSIIDiHI\\', \\'x-amz-bedrock-kb-data-source-id\\': \\'VWPQ7C5G7Y\\'}, \\'score\\': 0.6818316}, {\\'content\\': {\\'text\\': \\'We have an ESG risk management program to minimize this risk, but we cannot eliminate it entirely. For example, our investment in a coal-fired power plant has exposed us to reputational and financial risks due to growing concerns about climate change.     ### Foreign Exchange Risk     Octank Financial is exposed to foreign exchange risk due to the possibility that changes in exchange rates could negatively impact the value of our investments or our financial results. We have a foreign exchange risk management program to minimize this risk, but we cannot eliminate it entirely. For instance, our investment in a Brazilian manufacturing company has exposed us to currency risks due to the volatility of the Brazilian real.Business details about Octank financial     Octank Financial is a leading financial services company that has been providing innovative and comprehensive financial solutions to its clients for over a decade. Founded in 2010 by a group of experienced financial professionals, including PersonA, PersonB, and PersonC, Octank Financial has grown to become a trusted name in the industry, with a reputation for excellence, integrity, and client satisfaction.     At Octank Financial, we specialize in providing a wide range of financial services to individuals, businesses, and institutions. Our services include investment banking, wealth management, asset management, corporate finance, and private equity. We have a team of highly skilled and experienced financial professionals who are dedicated to helping our clients achieve their financial goals.\\', \\'type\\': \\'TEXT\\'}, \\'location\\': {\\'s3Location\\': {\\'uri\\': \\'s3://synthetic-data-kb-5220459-533267284022/octank_financial_10K.pdf\\'}, \\'type\\': \\'S3\\'}, \\'metadata\\': {\\'x-amz-bedrock-kb-source-uri\\': \\'s3://synthetic-data-kb-5220459-533267284022/octank_financial_10K.pdf\\', \\'x-amz-bedrock-kb-document-page-number\\': 33.0, \\'x-amz-bedrock-kb-chunk-id\\': \\'1%3A0%3AOFcAC5cBwjhvgSIIDiHI\\', \\'x-amz-bedrock-kb-data-source-id\\': \\'VWPQ7C5G7Y\\'}, \\'score\\': 0.68081576}, {\\'content\\': {\\'text\\': \\'Accessibility: We are committed to making financial services accessible to everyone, regardless of their background, location, or financial status. Our digital-first approach enables us to reach a wider audience and provide them with the tools and resources they need to manage their finances effectively. We are also committed to promoting financial literacy and education, so that our customers can make informed decisions about their financial future. PersonB, our Head of Accessibility, leads our efforts to ensure that our products and services are accessible to all.     Customer-centricity: At Octank Financial, our customers are at the heart of everything we do. We are committed to providing exceptional customer service and building long-term relationships with our customers based on trust, transparency, and mutual respect. Our customer-centric approach is reflected in everything from our user-friendly interface to our personalized financial advice. PersonC, our Chief Customer Officer, oversees our customer experience team and ensures that we are always putting our customers first.     To achieve our mission, we have developed a comprehensive strategy that focuses on three key areas: product development, customer engagement, and community impact.     Product Development: We are committed to developing a range of financial products and services that meet the needs of our customers. Our product development process is customer-led, meaning that we start by understanding the needs and pain points of our customers and then design solutions that address those needs.\\', \\'type\\': \\'TEXT\\'}, \\'location\\': {\\'s3Location\\': {\\'uri\\': \\'s3://synthetic-data-kb-5220459-533267284022/octank_financial_10K.pdf\\'}, \\'type\\': \\'S3\\'}, \\'metadata\\': {\\'x-amz-bedrock-kb-source-uri\\': \\'s3://synthetic-data-kb-5220459-533267284022/octank_financial_10K.pdf\\', \\'x-amz-bedrock-kb-document-page-number\\': 42.0, \\'x-amz-bedrock-kb-chunk-id\\': \\'1%3A0%3ASFcAC5cBwjhvgSIIDiHI\\', \\'x-amz-bedrock-kb-data-source-id\\': \\'VWPQ7C5G7Y\\'}, \\'score\\': 0.6547718}]}'}]}}]},\n",
       " {'role': 'assistant',\n",
       "  'content': [{'text': \"# Octank Financial's Business Strategy\\n\\nBased on the information retrieved from Octank Financial's documentation, here's a comprehensive overview of their business strategy:\\n\\n## Core Business Focus\\nOctank Financial is a leading financial services company that provides a wide range of services including:\\n- Investment banking\\n- Wealth management\\n- Asset management\\n- Corporate finance\\n- Private equity\\n\\n## Strategic Pillars\\n\\n### 1. Client-Centric Approach\\n- Building long-term relationships with clients based on trust, transparency, and mutual respect\\n- Delivering exceptional service tailored to clients' unique needs and goals\\n- Working closely with clients to develop customized investment strategies\\n\\n### 2. Innovation and Excellence\\n- Commitment to staying at the forefront of financial innovation\\n- Using technology and creativity to deliver the best possible solutions\\n- Maintaining high ethical standards and integrity in all operations\\n\\n### 3. Talent Development\\n- Employing over 1,000 professionals from diverse backgrounds\\n- Team includes investment bankers, wealth managers, asset managers, corporate financiers, and private equity investors\\n- Comprehensive training programs to keep employees up-to-date on industry trends\\n\\n### 4. Digital-First Accessibility\\n- Making financial services accessible to everyone regardless of background or financial status\\n- Promoting financial literacy and education\\n- User-friendly interfaces and personalized financial advice\\n\\n### 5. Financial Strength\\n- Maintaining a strong financial position with robust revenue growth\\n- Solid balance sheet with significant cash reserves\\n- In 2021, they reported revenues of $2.5 billion (15% increase over previous year)\\n- Net income of $500 million in 2021 (up from $400 million in 2020)\\n\\n### 6. Corporate Social Responsibility\\n- Focus on supporting education, healthcare, and environmental sustainability\\n- Partnerships with local charities and non-profit organizations\\n- Sustainability committee to reduce environmental impact and promote sustainable practices\\n\\nOctank Financial focuses on a customer-led product development process that starts by understanding customer needs and pain points before designing solutions, all guided by their core values of integrity, innovation, collaboration, excellence, and social responsibility.\"}]},\n",
       " {'role': 'user',\n",
       "  'content': [{'text': 'What is the total spending by all customers?'}]},\n",
       " {'role': 'assistant',\n",
       "  'content': [{'text': \"I'll help you find information about the total spending by all customers of Octank Financial. This question requires analysis of numerical data, so I'll use the structured data assistant to retrieve this information.\"},\n",
       "   {'toolUse': {'toolUseId': 'tooluse_ZsuuH7t7RAeZBk-AZ_Uoqw',\n",
       "     'name': 'structured_data_assistant',\n",
       "     'input': {'query': 'What is the total spending by all customers?'}}}]},\n",
       " {'role': 'user',\n",
       "  'content': [{'toolResult': {'toolUseId': 'tooluse_ZsuuH7t7RAeZBk-AZ_Uoqw',\n",
       "     'status': 'success',\n",
       "     'content': [{'text': \"{'ResponseMetadata': {'RequestId': '7acf77ff-d9f3-4b24-a53b-b0743fdb0ed1', 'HTTPStatusCode': 200, 'HTTPHeaders': {'date': 'Mon, 23 Jun 2025 02:02:25 GMT', 'content-type': 'application/json', 'content-length': '246', 'connection': 'keep-alive', 'x-amzn-requestid': '7acf77ff-d9f3-4b24-a53b-b0743fdb0ed1'}, 'RetryAttempts': 0}, 'retrievalResults': [{'content': {'row': [{'columnName': 'total_spending', 'columnValue': '5078473.69', 'type': 'STRING'}], 'type': 'ROW'}, 'location': {'sqlLocation': {'query': 'SELECT SUM(order_total) AS total_spending FROM public.orders;'}, 'type': 'SQL'}}]}\"}]}}]},\n",
       " {'role': 'assistant',\n",
       "  'content': [{'text': \"# Total Customer Spending\\n\\nBased on the query results from Octank Financial's database, the total spending by all customers is:\\n\\n**$5,078,473.69** (Five million, seventy-eight thousand, four hundred seventy-three dollars and sixty-nine cents)\\n\\nThis figure represents the sum of all order totals in the company's transaction records.\"}]}]"
      ]
     },
     "execution_count": 10,
     "metadata": {},
     "output_type": "execute_result"
    }
   ],
   "source": [
    "orchestrator.messages"
   ]
  },
  {
   "cell_type": "markdown",
   "id": "79fa95ab",
   "metadata": {
    "vscode": {
     "languageId": "raw"
    }
   },
   "source": [
    "### Tool Usage Analysis\n",
    "\n",
    "Let's analyze which tools were used for each query type and examine the decision-making process:\n"
   ]
  },
  {
   "cell_type": "code",
   "execution_count": 11,
   "id": "d0c1f37b",
   "metadata": {},
   "outputs": [
    {
     "name": "stdout",
     "output_type": "stream",
     "text": [
      "=== TOOL USAGE ANALYSIS ===\n",
      "Tool: unstructured_data_assistant\n",
      "Query: What is Octank Financial's business strategy?\n",
      "Tool ID: tooluse_SsBe3pmZT5qzUkJEyqtNXw\n",
      "--------------------------------------------------\n",
      "Tool: structured_data_assistant\n",
      "Query: What is the total spending by all customers?\n",
      "Tool ID: tooluse_ZsuuH7t7RAeZBk-AZ_Uoqw\n",
      "--------------------------------------------------\n"
     ]
    }
   ],
   "source": [
    "# Analyze tool usage across conversation history\n",
    "def analyze_tool_usage(messages):\n",
    "    tool_usage = []\n",
    "    \n",
    "    for i, message in enumerate(messages):\n",
    "        if message['role'] == 'assistant':\n",
    "            for content in message['content']:\n",
    "                if 'toolUse' in content:\n",
    "                    tool_name = content['toolUse']['name']\n",
    "                    tool_input = content['toolUse']['input']\n",
    "                    tool_usage.append({\n",
    "                        'message_index': i,\n",
    "                        'tool_name': tool_name,\n",
    "                        'query': tool_input.get('query', ''),\n",
    "                        'tool_id': content['toolUse']['toolUseId']\n",
    "                    })\n",
    "    \n",
    "    return tool_usage\n",
    "\n",
    "# Analyze the conversation\n",
    "tool_usage = analyze_tool_usage(orchestrator.messages)\n",
    "\n",
    "print(\"=== TOOL USAGE ANALYSIS ===\")\n",
    "for usage in tool_usage:\n",
    "    print(f\"Tool: {usage['tool_name']}\")\n",
    "    print(f\"Query: {usage['query']}\")\n",
    "    print(f\"Tool ID: {usage['tool_id']}\")\n",
    "    print(\"-\" * 50)\n"
   ]
  },
  {
   "cell_type": "markdown",
   "id": "c2ccceea",
   "metadata": {
    "vscode": {
     "languageId": "raw"
    }
   },
   "source": [
    "### Detailed Message Flow Inspection\n",
    "\n",
    "Let's examine the complete message flow to understand the agent's reasoning process:\n"
   ]
  },
  {
   "cell_type": "code",
   "execution_count": 12,
   "id": "5a2dc0c9",
   "metadata": {},
   "outputs": [
    {
     "name": "stdout",
     "output_type": "stream",
     "text": [
      "=== DETAILED MESSAGE FLOW ===\n",
      "\n",
      "--- Message 1 ---\n",
      "Role: user\n",
      "  Content 1:\n",
      "    Text: What is Octank Financial's business strategy?\n",
      "\n",
      "--- Message 2 ---\n",
      "Role: assistant\n",
      "  Content 1:\n",
      "    Text: I'll help you find information about Octank Financial's business strategy by querying our knowledge base. This is a question about company information and business strategies, so I'll use the appropri...\n",
      "  Content 2:\n",
      "    Tool Use: unstructured_data_assistant\n",
      "    Input: {'query': \"What is Octank Financial's business strategy?\"}\n",
      "    ID: tooluse_SsBe3pmZT5qzUkJEyqtNXw\n",
      "\n",
      "--- Message 3 ---\n",
      "Role: user\n",
      "  Content 1:\n",
      "    Tool Result: success\n",
      "    ID: tooluse_SsBe3pmZT5qzUkJEyqtNXw\n",
      "    Content: [Raw KB Response - 20776 chars]\n",
      "\n",
      "--- Message 4 ---\n",
      "Role: assistant\n",
      "  Content 1:\n",
      "    Text: # Octank Financial's Business Strategy\n",
      "\n",
      "Based on the information retrieved from Octank Financial's documentation, here's a comprehensive overview of their business strategy:\n",
      "\n",
      "## Core Business Focus\n",
      "Oc...\n",
      "\n",
      "--- Message 5 ---\n",
      "Role: user\n",
      "  Content 1:\n",
      "    Text: What is the total spending by all customers?\n",
      "\n",
      "--- Message 6 ---\n",
      "Role: assistant\n",
      "  Content 1:\n",
      "    Text: I'll help you find information about the total spending by all customers of Octank Financial. This question requires analysis of numerical data, so I'll use the structured data assistant to retrieve t...\n",
      "  Content 2:\n",
      "    Tool Use: structured_data_assistant\n",
      "    Input: {'query': 'What is the total spending by all customers?'}\n",
      "    ID: tooluse_ZsuuH7t7RAeZBk-AZ_Uoqw\n",
      "\n",
      "--- Message 7 ---\n",
      "Role: user\n",
      "  Content 1:\n",
      "    Tool Result: success\n",
      "    ID: tooluse_ZsuuH7t7RAeZBk-AZ_Uoqw\n",
      "    Content: [Raw KB Response - 601 chars]\n",
      "\n",
      "--- Message 8 ---\n",
      "Role: assistant\n",
      "  Content 1:\n",
      "    Text: # Total Customer Spending\n",
      "\n",
      "Based on the query results from Octank Financial's database, the total spending by all customers is:\n",
      "\n",
      "**$5,078,473.69** (Five million, seventy-eight thousand, four hundred s...\n"
     ]
    }
   ],
   "source": [
    "# Inspect the complete conversation flow\n",
    "def inspect_message_flow(messages):\n",
    "    print(\"=== DETAILED MESSAGE FLOW ===\")\n",
    "    \n",
    "    for i, message in enumerate(messages):\n",
    "        print(f\"\\n--- Message {i+1} ---\")\n",
    "        print(f\"Role: {message['role']}\")\n",
    "        \n",
    "        for j, content in enumerate(message['content']):\n",
    "            print(f\"  Content {j+1}:\")\n",
    "            \n",
    "            if 'text' in content:\n",
    "                text = content['text']\n",
    "                # Truncate long text for readability\n",
    "                if len(text) > 200:\n",
    "                    text = text[:200] + \"...\"\n",
    "                print(f\"    Text: {text}\")\n",
    "            \n",
    "            elif 'toolUse' in content:\n",
    "                tool_use = content['toolUse']\n",
    "                print(f\"    Tool Use: {tool_use['name']}\")\n",
    "                print(f\"    Input: {tool_use['input']}\")\n",
    "                print(f\"    ID: {tool_use['toolUseId']}\")\n",
    "            \n",
    "            elif 'toolResult' in content:\n",
    "                tool_result = content['toolResult']\n",
    "                print(f\"    Tool Result: {tool_result['status']}\")\n",
    "                print(f\"    ID: {tool_result['toolUseId']}\")\n",
    "                # Don't print full content as it's very long\n",
    "                print(f\"    Content: [Raw KB Response - {len(str(tool_result['content']))} chars]\")\n",
    "\n",
    "# Run the inspection\n",
    "inspect_message_flow(orchestrator.messages)\n"
   ]
  },
  {
   "cell_type": "markdown",
   "id": "1f800630",
   "metadata": {
    "vscode": {
     "languageId": "raw"
    }
   },
   "source": [
    "## Advanced Query Testing\n",
    "\n",
    "Let's test the system with more complex queries to validate the routing logic:\n"
   ]
  },
  {
   "cell_type": "code",
   "execution_count": null,
   "id": "c33b24af",
   "metadata": {},
   "outputs": [],
   "source": [
    "# Test additional queries to validate routing logic\n",
    "test_queries = [\n",
    "    {\n",
    "        \"query\": \"What are Octank Financial's core values?\",\n",
    "        \"expected_tool\": \"unstructured_data_assistant\",\n",
    "        \"type\": \"Qualitative/Policy\"\n",
    "    },\n",
    "    {\n",
    "        \"query\": \"How many orders were placed by customers in total?\",\n",
    "        \"expected_tool\": \"structured_data_assistant\", \n",
    "        \"type\": \"Quantitative/Count\"\n",
    "    },\n",
    "    {\n",
    "        \"query\": \"What is the company's approach to corporate social responsibility?\",\n",
    "        \"expected_tool\": \"unstructured_data_assistant\",\n",
    "        \"type\": \"Qualitative/Strategy\"\n",
    "    },\n",
    "    {\n",
    "        \"query\": \"What is the average order value across all customers?\",\n",
    "        \"expected_tool\": \"structured_data_assistant\",\n",
    "        \"type\": \"Quantitative/Analysis\"\n",
    "    }\n",
    "]\n",
    "\n",
    "print(\"=== ADVANCED QUERY ROUTING VALIDATION ===\\n\")\n",
    "\n",
    "for i, test_case in enumerate(test_queries, 1):\n",
    "    print(f\"TEST {i}: {test_case['type']}\")\n",
    "    print(f\"Query: {test_case['query']}\")\n",
    "    print(f\"Expected Tool: {test_case['expected_tool']}\")\n",
    "    \n",
    "    # Get response and check routing\n",
    "    response = orchestrator(test_case['query'])\n",
    "    \n",
    "    # Check which tool was actually used\n",
    "    recent_messages = orchestrator.messages[-2:]  # Last user message and assistant response\n",
    "    used_tool = None\n",
    "    \n",
    "    for message in recent_messages:\n",
    "        if message['role'] == 'assistant':\n",
    "            for content in message['content']:\n",
    "                if 'toolUse' in content:\n",
    "                    used_tool = content['toolUse']['name']\n",
    "                    break\n",
    "    \n",
    "    routing_correct = used_tool == test_case['expected_tool']\n",
    "    status = \"✅ CORRECT\" if routing_correct else \"❌ INCORRECT\"\n",
    "    \n",
    "    print(f\"Actual Tool Used: {used_tool}\")\n",
    "    print(f\"Routing Status: {status}\")\n",
    "    print(f\"Response Length: {len(response)} characters\")\n",
    "    print(\"-\" * 80)\n",
    "    print()\n"
   ]
  },
  {
   "cell_type": "markdown",
   "id": "673b6591",
   "metadata": {
    "vscode": {
     "languageId": "raw"
    }
   },
   "source": [
    "## System Performance Analysis\n",
    "\n",
    "Let's analyze the overall performance and routing accuracy of our dual knowledge base system:\n"
   ]
  },
  {
   "cell_type": "code",
   "execution_count": 13,
   "id": "2a33260e",
   "metadata": {},
   "outputs": [
    {
     "name": "stdout",
     "output_type": "stream",
     "text": [
      "=== DUAL KNOWLEDGE BASE RAG SYSTEM SUMMARY ===\n",
      "📊 Total User Queries Processed: 4\n",
      "🔧 Total Tool Invocations: 2\n",
      "\n",
      "🎯 Tool Usage Breakdown:\n",
      "  • unstructured_data_assistant: 1 invocations (50.0%)\n",
      "  • structured_data_assistant: 1 invocations (50.0%)\n",
      "\n",
      "📈 System Capabilities Demonstrated:\n",
      "  ✅ Intelligent query routing between structured and unstructured data\n",
      "  ✅ Natural language interface for both SQL and document queries\n",
      "  ✅ Comprehensive response synthesis from multiple knowledge sources\n",
      "  ✅ Transparent agent reasoning and tool selection process\n"
     ]
    }
   ],
   "source": [
    "# Generate performance summary\n",
    "def generate_performance_summary():\n",
    "    total_interactions = len([msg for msg in orchestrator.messages if msg['role'] == 'user'])\n",
    "    tool_usage_counts = {}\n",
    "    \n",
    "    # Count tool usage\n",
    "    for message in orchestrator.messages:\n",
    "        if message['role'] == 'assistant':\n",
    "            for content in message['content']:\n",
    "                if 'toolUse' in content:\n",
    "                    tool_name = content['toolUse']['name']\n",
    "                    tool_usage_counts[tool_name] = tool_usage_counts.get(tool_name, 0) + 1\n",
    "    \n",
    "    print(\"=== DUAL KNOWLEDGE BASE RAG SYSTEM SUMMARY ===\")\n",
    "    print(f\"📊 Total User Queries Processed: {total_interactions}\")\n",
    "    print(f\"🔧 Total Tool Invocations: {sum(tool_usage_counts.values())}\")\n",
    "    print()\n",
    "    \n",
    "    print(\"🎯 Tool Usage Breakdown:\")\n",
    "    for tool_name, count in tool_usage_counts.items():\n",
    "        percentage = (count / sum(tool_usage_counts.values())) * 100\n",
    "        print(f\"  • {tool_name}: {count} invocations ({percentage:.1f}%)\")\n",
    "    \n",
    "    print()\n",
    "    print(\"📈 System Capabilities Demonstrated:\")\n",
    "    print(\"  ✅ Intelligent query routing between structured and unstructured data\")\n",
    "    print(\"  ✅ Natural language interface for both SQL and document queries\")\n",
    "    print(\"  ✅ Comprehensive response synthesis from multiple knowledge sources\")\n",
    "    print(\"  ✅ Transparent agent reasoning and tool selection process\")\n",
    "    \n",
    "    return {\n",
    "        'total_queries': total_interactions,\n",
    "        'tool_usage': tool_usage_counts,\n",
    "        'conversation_length': len(orchestrator.messages)\n",
    "    }\n",
    "\n",
    "summary = generate_performance_summary()\n"
   ]
  },
  {
   "cell_type": "markdown",
   "id": "75738cb2",
   "metadata": {
    "vscode": {
     "languageId": "raw"
    }
   },
   "source": [
    "## Key Insights and Technical Architecture\n",
    "\n",
    "### 🏗️ **Technical Implementation Highlights**\n",
    "\n",
    "This dual knowledge base RAG system demonstrates several advanced concepts:\n",
    "\n",
    "1. **Multi-Modal Knowledge Integration**: Successfully combines structured (SQL/Redshift) and unstructured (PDF/documents) data sources\n",
    "2. **Intelligent Query Classification**: Uses LLM reasoning to determine query intent and route appropriately\n",
    "3. **Tool-Based Architecture**: Leverages Strands framework's `@tool` decorator for modular, reusable components\n",
    "4. **Raw Data Processing**: Agent synthesizes raw knowledge base responses into coherent, user-friendly answers\n",
    "\n",
    "### 🔍 **Agent Decision-Making Process**\n",
    "\n",
    "The agent follows this reasoning pattern:\n",
    "1. **Query Analysis**: Examines the semantic content and intent\n",
    "2. **Classification**: Determines if the query requires qualitative (document) or quantitative (data) information  \n",
    "3. **Tool Selection**: Routes to the appropriate knowledge base assistant\n",
    "4. **Response Synthesis**: Processes raw retrieval results and presents insights clearly\n",
    "\n",
    "### 🎯 **Use Cases and Applications**\n",
    "\n",
    "This architecture is ideal for scenarios requiring:\n",
    "- **Enterprise Knowledge Management**: Combining policy documents with operational data\n",
    "- **Financial Analysis**: Mixing quantitative metrics with qualitative research\n",
    "- **Customer Support**: Accessing both procedural documentation and transactional history\n",
    "- **Business Intelligence**: Blending strategic documents with analytical data\n"
   ]
  },
  {
   "cell_type": "markdown",
   "id": "dfe6effa",
   "metadata": {
    "vscode": {
     "languageId": "raw"
    }
   },
   "source": [
    "## Conclusion\n",
    "\n",
    "### ✅ **What We've Accomplished**\n",
    "\n",
    "This notebook successfully demonstrated:\n",
    "\n",
    "1. **Dual Knowledge Base Setup**: Integration of both structured (Redshift) and unstructured (OpenSearch) knowledge bases\n",
    "2. **Intelligent Agent Orchestration**: Using Strands Agents to route queries based on semantic understanding\n",
    "3. **Custom Tool Development**: Created specialized retrieval tools for different data types\n",
    "4. **Transparent Decision Making**: Inspected agent reasoning and tool selection process\n",
    "5. **Performance Validation**: Tested routing accuracy across multiple query types\n",
    "\n",
    "### 🚀 **Next Steps and Extensions**\n",
    "\n",
    "Potential enhancements to explore:\n",
    "- **Hybrid Queries**: Handle queries requiring both structured and unstructured information\n",
    "- **Context Preservation**: Maintain conversation context across multiple knowledge bases\n",
    "- **Advanced Routing**: Implement more sophisticated query classification logic\n",
    "- **Performance Optimization**: Add caching and response time optimization\n",
    "- **Multi-Turn Conversations**: Support follow-up questions within the same context\n",
    "\n",
    "### 📚 **Key Takeaways**\n",
    "\n",
    "The Strands Agents framework provides a powerful foundation for building intelligent, multi-modal RAG systems that can seamlessly combine different types of knowledge sources while maintaining transparency in the decision-making process.\n",
    "\n",
    "**This architecture pattern is particularly valuable for enterprise applications where users need access to both quantitative business data and qualitative documentation through a single, intelligent interface.**\n"
   ]
  },
  {
   "cell_type": "code",
   "execution_count": null,
   "id": "f920c466",
   "metadata": {},
   "outputs": [],
   "source": []
  }
 ],
 "metadata": {
  "kernelspec": {
   "display_name": "genai-on-aws",
   "language": "python",
   "name": "python3"
  },
  "language_info": {
   "codemirror_mode": {
    "name": "ipython",
    "version": 3
   },
   "file_extension": ".py",
   "mimetype": "text/x-python",
   "name": "python",
   "nbconvert_exporter": "python",
   "pygments_lexer": "ipython3",
   "version": "3.12.1"
  }
 },
 "nbformat": 4,
 "nbformat_minor": 5
}
