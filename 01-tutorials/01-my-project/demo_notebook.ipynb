{
  "cells": [
    {
      "cell_type": "raw",
      "metadata": {
        "vscode": {
          "languageId": "raw"
        }
      },
      "source": [
        "# Weather Intelligence Multi-Agent System\n",
        "## Comprehensive Strands AI Demo\n",
        "\n",
        "### Overview\n",
        "This notebook demonstrates a complete multi-agent system using Strands AI that showcases:\n",
        "\n",
        "- **Multi-Agent Architecture**: Research, Analysis, and Report agents working in coordination\n",
        "- **MCP Server Integration**: Custom weather services with both stdio and HTTP transports\n",
        "- **AWS Deployment**: Lambda functions and Fargate services\n",
        "- **Observability**: Complete LangFuse integration with evaluation metrics\n",
        "- **Deep Research**: Combining weather data with news, trends, and economic analysis\n",
        "\n",
        "### Use Case\n",
        "Agricultural Weather Intelligence Platform - helping farmers and agribusiness make data-driven decisions based on weather patterns, market trends, and research insights.\n",
        "\n",
        "### Architecture Overview\n",
        "\n",
        "```\n",
        "┌─────────────┐    ┌──────────────┐    ┌─────────────┐\n",
        "│   Research  │◄──►│   Analysis   │◄──►│   Report    │\n",
        "│    Agent    │    │    Agent     │    │   Agent     │\n",
        "└─────────────┘    └──────────────┘    └─────────────┘\n",
        "       │                   │                   │\n",
        "       └───────────────────┼───────────────────┘\n",
        "                           │\n",
        "               ┌───────────▼────────────┐\n",
        "               │   Weather MCP Server   │\n",
        "               │    (AWS Lambda)        │\n",
        "               └────────────────────────┘\n",
        "                           │\n",
        "               ┌───────────▼────────────┐\n",
        "               │      LangFuse          │\n",
        "               │   (Observability)      │\n",
        "               └────────────────────────┘\n",
        "```\n"
      ]
    },
    {
      "cell_type": "raw",
      "metadata": {
        "vscode": {
          "languageId": "raw"
        }
      },
      "source": [
        "## Setup and Installation\n"
      ]
    },
    {
      "cell_type": "code",
      "execution_count": null,
      "metadata": {},
      "outputs": [],
      "source": [
        "# Install required packages\n",
        "%pip install -r requirements.txt\n"
      ]
    },
    {
      "cell_type": "code",
      "execution_count": 1,
      "metadata": {},
      "outputs": [
        {
          "ename": "ImportError",
          "evalue": "cannot import name 'web_search' from 'strands_tools' (/opt/homebrew/Caskroom/miniforge/base/envs/genai-on-aws/lib/python3.12/site-packages/strands_tools/__init__.py)",
          "output_type": "error",
          "traceback": [
            "\u001b[0;31m---------------------------------------------------------------------------\u001b[0m",
            "\u001b[0;31mImportError\u001b[0m                               Traceback (most recent call last)",
            "Cell \u001b[0;32mIn[1], line 11\u001b[0m\n\u001b[1;32m      9\u001b[0m \u001b[38;5;28;01mfrom\u001b[39;00m \u001b[38;5;21;01mstrands\u001b[39;00m\u001b[38;5;21;01m.\u001b[39;00m\u001b[38;5;21;01mmodels\u001b[39;00m\u001b[38;5;21;01m.\u001b[39;00m\u001b[38;5;21;01mbedrock\u001b[39;00m \u001b[38;5;28;01mimport\u001b[39;00m BedrockModel\n\u001b[1;32m     10\u001b[0m \u001b[38;5;28;01mfrom\u001b[39;00m \u001b[38;5;21;01mstrands\u001b[39;00m\u001b[38;5;21;01m.\u001b[39;00m\u001b[38;5;21;01mtools\u001b[39;00m\u001b[38;5;21;01m.\u001b[39;00m\u001b[38;5;21;01mmcp\u001b[39;00m \u001b[38;5;28;01mimport\u001b[39;00m MCPClient\n\u001b[0;32m---> 11\u001b[0m \u001b[38;5;28;01mfrom\u001b[39;00m \u001b[38;5;21;01mstrands_tools\u001b[39;00m \u001b[38;5;28;01mimport\u001b[39;00m current_time, web_search\n\u001b[1;32m     13\u001b[0m \u001b[38;5;66;03m# Project imports\u001b[39;00m\n\u001b[1;32m     14\u001b[0m \u001b[38;5;28;01mfrom\u001b[39;00m \u001b[38;5;21;01mutils\u001b[39;00m\u001b[38;5;21;01m.\u001b[39;00m\u001b[38;5;21;01mconfig\u001b[39;00m \u001b[38;5;28;01mimport\u001b[39;00m Config\n",
            "\u001b[0;31mImportError\u001b[0m: cannot import name 'web_search' from 'strands_tools' (/opt/homebrew/Caskroom/miniforge/base/envs/genai-on-aws/lib/python3.12/site-packages/strands_tools/__init__.py)"
          ]
        }
      ],
      "source": [
        "# Import core dependencies\n",
        "import os\n",
        "import asyncio\n",
        "import json\n",
        "from datetime import datetime, timedelta\n",
        "\n",
        "# Strands imports\n",
        "from strands import Agent\n",
        "from strands.models.bedrock import BedrockModel\n",
        "from strands.tools.mcp import MCPClient\n",
        "from strands_tools import current_time, web_search\n",
        "\n",
        "# Project imports\n",
        "from utils.config import Config\n",
        "from utils.observability import setup_langfuse_tracing\n",
        "from agents.orchestrator import MultiAgentOrchestrator\n",
        "from agents.research_agent import create_research_agent\n",
        "from agents.analysis_agent import create_analysis_agent\n",
        "from agents.report_agent import create_report_agent\n",
        "\n",
        "print(\"✅ All imports successful\")\n"
      ]
    },
    {
      "cell_type": "raw",
      "metadata": {
        "vscode": {
          "languageId": "raw"
        }
      },
      "source": [
        "## Quick Demo: Multi-Agent Weather Analysis\n",
        "\n",
        "Let's run a quick demonstration of the multi-agent system working together to analyze weather impacts on agriculture.\n"
      ]
    },
    {
      "cell_type": "code",
      "execution_count": null,
      "metadata": {},
      "outputs": [],
      "source": [
        "# Initialize the system\n",
        "async def demo_weather_intelligence():\n",
        "    \"\"\"Run a complete weather intelligence demo.\"\"\"\n",
        "    \n",
        "    # Setup configuration\n",
        "    config = Config()\n",
        "    print(\"🔧 Configuration loaded\")\n",
        "    \n",
        "    # Setup observability (optional - will gracefully fail if credentials not set)\n",
        "    try:\n",
        "        setup_langfuse_tracing(\n",
        "            public_key=config.LANGFUSE_PUBLIC_KEY or \"demo\",\n",
        "            secret_key=config.LANGFUSE_SECRET_KEY or \"demo\", \n",
        "            host=config.LANGFUSE_HOST\n",
        "        )\n",
        "        print(\"✅ LangFuse observability configured\")\n",
        "    except Exception as e:\n",
        "        print(f\"⚠️ LangFuse setup skipped: {e}\")\n",
        "    \n",
        "    # Create agents\n",
        "    print(\"🤖 Creating specialized agents...\")\n",
        "    research_agent = await create_research_agent()\n",
        "    analysis_agent = await create_analysis_agent()\n",
        "    report_agent = await create_report_agent()\n",
        "    print(\"✅ Agents created successfully\")\n",
        "    \n",
        "    # Create orchestrator\n",
        "    orchestrator = MultiAgentOrchestrator(\n",
        "        research_agent=research_agent,\n",
        "        analysis_agent=analysis_agent, \n",
        "        report_agent=report_agent,\n",
        "        coordination_pattern=\"mesh\"\n",
        "    )\n",
        "    print(\"🎭 Multi-agent orchestrator ready\")\n",
        "    \n",
        "    # Demo task\n",
        "    task = \"\"\"\n",
        "    Analyze weather conditions affecting corn production in Iowa over the next week.\n",
        "    Consider:\n",
        "    1. Current weather patterns and 7-day forecast\n",
        "    2. Impact on corn growth stages\n",
        "    3. Risk assessment for farmers\n",
        "    4. Recommendations for mitigation\n",
        "    \n",
        "    Provide a comprehensive report for agricultural stakeholders.\n",
        "    \"\"\"\n",
        "    \n",
        "    print(\"\\n🌽 Executing: Iowa Corn Weather Impact Analysis\")\n",
        "    print(\"=\" * 60)\n",
        "    \n",
        "    # Execute the multi-agent task\n",
        "    result = await orchestrator.execute_task(task)\n",
        "    \n",
        "    print(f\"\\n📊 Analysis Complete!\")\n",
        "    print(f\"Duration: {result.total_duration:.1f} seconds\")\n",
        "    print(f\"Coordination: {result.coordination_pattern}\")\n",
        "    print(f\"Success: {result.success}\")\n",
        "    \n",
        "    print(f\"\\n📋 Final Report:\")\n",
        "    print(\"=\" * 60)\n",
        "    print(result.final_report)\n",
        "    print(\"=\" * 60)\n",
        "    \n",
        "    return result\n",
        "\n",
        "# Run the demo\n",
        "result = await demo_weather_intelligence()\n"
      ]
    }
  ],
  "metadata": {
    "kernelspec": {
      "display_name": "genai-on-aws",
      "language": "python",
      "name": "python3"
    },
    "language_info": {
      "codemirror_mode": {
        "name": "ipython",
        "version": 3
      },
      "file_extension": ".py",
      "mimetype": "text/x-python",
      "name": "python",
      "nbconvert_exporter": "python",
      "pygments_lexer": "ipython3",
      "version": "3.12.1"
    }
  },
  "nbformat": 4,
  "nbformat_minor": 2
}
